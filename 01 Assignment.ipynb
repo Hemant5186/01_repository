{
 "cells": [
  {
   "cell_type": "code",
   "execution_count": 8,
   "id": "d8359ae0-15c8-4511-9e9d-fc248aaf0279",
   "metadata": {},
   "outputs": [],
   "source": [
    "import cv2\n",
    "import matplotlib.pyplot as plt\n",
    "import numpy as np"
   ]
  },
  {
   "cell_type": "code",
   "execution_count": 9,
   "id": "8543e65f-fc88-47bf-9e20-ab1c8930ee44",
   "metadata": {},
   "outputs": [],
   "source": [
    "# Load the image\n",
    "img = cv2.imread(\"images/sachin.jpg\")"
   ]
  },
  {
   "cell_type": "code",
   "execution_count": 10,
   "id": "796abcc3-3f53-4e2b-ac0f-5a189b4c5222",
   "metadata": {},
   "outputs": [],
   "source": [
    "cv2.imshow('Image', img)\n",
    "cv2.waitKey(0)\n",
    "cv2.destroyAllWindows()"
   ]
  },
  {
   "cell_type": "markdown",
   "id": "7a92d01e-9207-46b0-8be6-2edd6c286ed8",
   "metadata": {},
   "source": [
    "##### 1) size and shape"
   ]
  },
  {
   "cell_type": "code",
   "execution_count": 6,
   "id": "39a06d75-28d2-4908-9a13-8f251ad3955a",
   "metadata": {},
   "outputs": [
    {
     "data": {
      "text/plain": [
       "2741250"
      ]
     },
     "execution_count": 6,
     "metadata": {},
     "output_type": "execute_result"
    }
   ],
   "source": [
    "img.size"
   ]
  },
  {
   "cell_type": "code",
   "execution_count": 7,
   "id": "ed4c5ddf-e38d-4542-a4ab-bf25e45ca337",
   "metadata": {},
   "outputs": [
    {
     "data": {
      "text/plain": [
       "(1075, 850, 3)"
      ]
     },
     "execution_count": 7,
     "metadata": {},
     "output_type": "execute_result"
    }
   ],
   "source": [
    "img.shape"
   ]
  },
  {
   "cell_type": "markdown",
   "id": "5dd68e1e-52fd-44a5-8fab-71d8d5ac1155",
   "metadata": {},
   "source": [
    "##### 2) color space"
   ]
  },
  {
   "cell_type": "code",
   "execution_count": null,
   "id": "532c89bb-7a1a-459c-a2d3-d8bb70394c2d",
   "metadata": {},
   "outputs": [],
   "source": []
  }
 ],
 "metadata": {
  "kernelspec": {
   "display_name": "Python 3 (ipykernel)",
   "language": "python",
   "name": "python3"
  },
  "language_info": {
   "codemirror_mode": {
    "name": "ipython",
    "version": 3
   },
   "file_extension": ".py",
   "mimetype": "text/x-python",
   "name": "python",
   "nbconvert_exporter": "python",
   "pygments_lexer": "ipython3",
   "version": "3.11.7"
  }
 },
 "nbformat": 4,
 "nbformat_minor": 5
}
