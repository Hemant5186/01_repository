{
 "cells": [
  {
   "cell_type": "code",
   "execution_count": 1,
   "id": "d1bcfacb-9902-4cfe-98ef-b0060ed4775d",
   "metadata": {},
   "outputs": [],
   "source": [
    "import numpy as np"
   ]
  },
  {
   "cell_type": "markdown",
   "id": "84311fa6-e75d-41cb-a088-c7d5853d1932",
   "metadata": {},
   "source": [
    "##### create the array\n"
   ]
  },
  {
   "cell_type": "code",
   "execution_count": 2,
   "id": "cdbb7b97-bbb8-4b21-b05b-a4416f8a4568",
   "metadata": {},
   "outputs": [],
   "source": [
    "x = np.array([56,67,46,78,22])"
   ]
  },
  {
   "cell_type": "code",
   "execution_count": 3,
   "id": "b6f610d9-420f-4082-af28-dcd7c1664e48",
   "metadata": {},
   "outputs": [
    {
     "name": "stdout",
     "output_type": "stream",
     "text": [
      "[56 67 46 78 22]\n"
     ]
    }
   ],
   "source": [
    "print(x)"
   ]
  },
  {
   "cell_type": "code",
   "execution_count": 4,
   "id": "39bdb5ef-0e2c-4ecf-bc10-2b2f83cd514b",
   "metadata": {},
   "outputs": [
    {
     "data": {
      "text/plain": [
       "numpy.ndarray"
      ]
     },
     "execution_count": 4,
     "metadata": {},
     "output_type": "execute_result"
    }
   ],
   "source": [
    "type(x)"
   ]
  },
  {
   "cell_type": "code",
   "execution_count": 5,
   "id": "3e22483f-ba86-4217-94f0-4ebb5fc7bf89",
   "metadata": {},
   "outputs": [
    {
     "data": {
      "text/plain": [
       "1"
      ]
     },
     "execution_count": 5,
     "metadata": {},
     "output_type": "execute_result"
    }
   ],
   "source": [
    "x.ndim"
   ]
  },
  {
   "cell_type": "code",
   "execution_count": 6,
   "id": "45e592ab-2a3d-4dea-8e65-aa4aa589e9fd",
   "metadata": {},
   "outputs": [
    {
     "data": {
      "text/plain": [
       "array([56, 67, 46, 78, 22])"
      ]
     },
     "execution_count": 6,
     "metadata": {},
     "output_type": "execute_result"
    }
   ],
   "source": [
    "x"
   ]
  },
  {
   "cell_type": "code",
   "execution_count": 7,
   "id": "56c9c5df-f31c-465c-8ff9-90454aa28ba4",
   "metadata": {},
   "outputs": [
    {
     "data": {
      "text/plain": [
       "dtype('int32')"
      ]
     },
     "execution_count": 7,
     "metadata": {},
     "output_type": "execute_result"
    }
   ],
   "source": [
    "x.dtype"
   ]
  },
  {
   "cell_type": "code",
   "execution_count": 8,
   "id": "f6d5c09a-4ad0-4ac1-8eeb-91ffc803799c",
   "metadata": {},
   "outputs": [],
   "source": [
    "a = 4545454546464654434321"
   ]
  },
  {
   "cell_type": "code",
   "execution_count": 9,
   "id": "f45e9391-862a-403e-abcf-19239b057205",
   "metadata": {},
   "outputs": [
    {
     "data": {
      "text/plain": [
       "4545454546464654434321"
      ]
     },
     "execution_count": 9,
     "metadata": {},
     "output_type": "execute_result"
    }
   ],
   "source": [
    "a"
   ]
  },
  {
   "cell_type": "code",
   "execution_count": 22,
   "id": "50a77ca3-aa78-474d-a619-e993329b5124",
   "metadata": {},
   "outputs": [],
   "source": [
    "a=456**784"
   ]
  },
  {
   "cell_type": "code",
   "execution_count": 23,
   "id": "29a22543-73ef-4ae9-8b64-d3e81cecbcc1",
   "metadata": {},
   "outputs": [
    {
     "data": {
      "text/plain": [
       "425046700184826395185008226944688713134991501310278388946317676130616609910787361721670896021967713024449860567509644329899069652082597718969916151435300299951899243040987045713799091905494570183726762235371971926120041912879798277092765024374801026264500479434994837626123121348213735498559195190922552871038614191353559766039423948658892418480681351985129171035315195523940505531985581343932845927665823572147242861397220893901615222629313973305454969454896630591295269340454714124401212714237427392371805342586436093999402412331462501802272903948978556979375768694303927161836853443919796776331425853810662655691775778864730632913739559452158134083517013410083785541147427943016703288624854002705501160975991788788515659800472037489441035290840104860083061734254240056157712806521325515936688602566951898637550715360309183212585188015415269487361746204936615412458498468065173744302083570504304829421891904538456494436960616545018110806807382445723333201842012707650326864325018274864217736138705833746206917151078085669907001110751283085899520469863797528173094639757477959641459434218368144395610863069478654329363215796620783390026312242187597921529865266351338945374141385388713561097913631581289639406960201743853263558167042142569883105447894497956322912704494565898887476302133701144587594250452230030056567450473406646321269043213763232473161407044126150162369014349247826320647836599246740756661852752062906848863712736426841481816804391566598202776748515866194788318261304799469054963389093690270048131997770503688465890616513218086196712389997178182544973771143107869943857491726214949384762361514922491084421573742041829692443771791794667410687146471809066570395111702196793793243006398499004378174593734369994398061944028483086577746054100391899939527662049357792025464507080935132710324501500269253524043231132514093070634197210965839959727652275961715098605645293801633496199317709048102083371059577479216393245846695387761380750747777795454998303583288383573875905818832169476539030276611758642402539234837776897043548828237754077202015119971855422863449712278634496"
      ]
     },
     "execution_count": 23,
     "metadata": {},
     "output_type": "execute_result"
    }
   ],
   "source": [
    "a"
   ]
  },
  {
   "cell_type": "code",
   "execution_count": 24,
   "id": "5b324165-f71d-4fa6-a429-14e2b84a5d24",
   "metadata": {},
   "outputs": [],
   "source": [
    "x = np.array([56,67,46,78,22], dtype = np.int8)"
   ]
  },
  {
   "cell_type": "code",
   "execution_count": 25,
   "id": "d4b029cc-62ca-4975-9f00-17bc33af1439",
   "metadata": {},
   "outputs": [
    {
     "data": {
      "text/plain": [
       "array([56, 67, 46, 78, 22], dtype=int8)"
      ]
     },
     "execution_count": 25,
     "metadata": {},
     "output_type": "execute_result"
    }
   ],
   "source": [
    "x"
   ]
  },
  {
   "cell_type": "code",
   "execution_count": 26,
   "id": "7df03d00-741f-47a7-b74a-72b8174332d2",
   "metadata": {},
   "outputs": [],
   "source": [
    "x = np.array([56,67,46,78,22], dtype = np.uint8)"
   ]
  },
  {
   "cell_type": "code",
   "execution_count": 27,
   "id": "60ed72a4-23f5-4566-8899-14ee59699e73",
   "metadata": {},
   "outputs": [
    {
     "data": {
      "text/plain": [
       "array([56, 67, 46, 78, 22], dtype=uint8)"
      ]
     },
     "execution_count": 27,
     "metadata": {},
     "output_type": "execute_result"
    }
   ],
   "source": [
    "x"
   ]
  },
  {
   "cell_type": "code",
   "execution_count": 34,
   "id": "ea714536-43eb-45ae-973d-c29bd8e44e44",
   "metadata": {},
   "outputs": [],
   "source": [
    "x[0] = 51"
   ]
  },
  {
   "cell_type": "code",
   "execution_count": 35,
   "id": "857878d9-4305-414f-82da-a93d713e51de",
   "metadata": {},
   "outputs": [
    {
     "data": {
      "text/plain": [
       "array([51, 67, 46, 78, 22], dtype=uint8)"
      ]
     },
     "execution_count": 35,
     "metadata": {},
     "output_type": "execute_result"
    }
   ],
   "source": [
    "x"
   ]
  },
  {
   "cell_type": "code",
   "execution_count": 36,
   "id": "774b03f0-9031-4ab4-9007-25a82c13c7d5",
   "metadata": {},
   "outputs": [
    {
     "data": {
      "text/plain": [
       "5"
      ]
     },
     "execution_count": 36,
     "metadata": {},
     "output_type": "execute_result"
    }
   ],
   "source": [
    "x.size"
   ]
  },
  {
   "cell_type": "code",
   "execution_count": 37,
   "id": "c238114f-fdb4-4b7b-910f-e67c2bcd603f",
   "metadata": {},
   "outputs": [
    {
     "data": {
      "text/plain": [
       "(5,)"
      ]
     },
     "execution_count": 37,
     "metadata": {},
     "output_type": "execute_result"
    }
   ],
   "source": [
    "x.shape"
   ]
  },
  {
   "cell_type": "code",
   "execution_count": 38,
   "id": "cdd3949b-9a52-4c43-9b44-82e3875dac1a",
   "metadata": {},
   "outputs": [
    {
     "data": {
      "text/plain": [
       "78"
      ]
     },
     "execution_count": 38,
     "metadata": {},
     "output_type": "execute_result"
    }
   ],
   "source": [
    "x.max()"
   ]
  },
  {
   "cell_type": "code",
   "execution_count": 39,
   "id": "c9c72f67-c714-4a85-ae27-26d79d97997c",
   "metadata": {},
   "outputs": [
    {
     "data": {
      "text/plain": [
       "52.8"
      ]
     },
     "execution_count": 39,
     "metadata": {},
     "output_type": "execute_result"
    }
   ],
   "source": [
    "x.mean()"
   ]
  },
  {
   "cell_type": "code",
   "execution_count": 43,
   "id": "2fb97a58-67a6-4fdf-b8a0-c1c6cacd8334",
   "metadata": {},
   "outputs": [
    {
     "data": {
      "text/plain": [
       "array([51, 67, 46, 78, 22], dtype=uint8)"
      ]
     },
     "execution_count": 43,
     "metadata": {},
     "output_type": "execute_result"
    }
   ],
   "source": [
    "x.T"
   ]
  },
  {
   "cell_type": "code",
   "execution_count": 41,
   "id": "c2c0c37b-ddda-47bf-8695-efdc6b3ffb07",
   "metadata": {},
   "outputs": [
    {
     "data": {
      "text/plain": [
       "19.156200040717888"
      ]
     },
     "execution_count": 41,
     "metadata": {},
     "output_type": "execute_result"
    }
   ],
   "source": [
    "x.std()"
   ]
  },
  {
   "cell_type": "code",
   "execution_count": 45,
   "id": "650cce48-44a5-45a3-90ee-4e1ebc0e469c",
   "metadata": {},
   "outputs": [
    {
     "data": {
      "text/plain": [
       "264"
      ]
     },
     "execution_count": 45,
     "metadata": {},
     "output_type": "execute_result"
    }
   ],
   "source": [
    "x.sum()"
   ]
  },
  {
   "cell_type": "code",
   "execution_count": 50,
   "id": "c73d4c04-0215-4e77-bccc-d507758fba09",
   "metadata": {},
   "outputs": [],
   "source": [
    "y = np.array([67, 89,45.2,11,35])"
   ]
  },
  {
   "cell_type": "code",
   "execution_count": 51,
   "id": "3b1256fb-d198-4aa2-92c6-4f5fdc98d838",
   "metadata": {},
   "outputs": [
    {
     "data": {
      "text/plain": [
       "array([67. , 89. , 45.2, 11. , 35. ])"
      ]
     },
     "execution_count": 51,
     "metadata": {},
     "output_type": "execute_result"
    }
   ],
   "source": [
    "y"
   ]
  },
  {
   "cell_type": "code",
   "execution_count": 52,
   "id": "f87bef3d-3109-4529-ac71-8380b486b272",
   "metadata": {},
   "outputs": [
    {
     "data": {
      "text/plain": [
       "dtype('float64')"
      ]
     },
     "execution_count": 52,
     "metadata": {},
     "output_type": "execute_result"
    }
   ],
   "source": [
    "y.dtype"
   ]
  },
  {
   "cell_type": "code",
   "execution_count": 55,
   "id": "679c84dc-b8b0-45a9-8e2f-4797e7f4e207",
   "metadata": {},
   "outputs": [],
   "source": [
    "z = np.array([67. , 89. , 45.2, 11. , 35, True])"
   ]
  },
  {
   "cell_type": "code",
   "execution_count": 56,
   "id": "aa1f8938-a91b-4439-8993-502ea4c0b87d",
   "metadata": {},
   "outputs": [
    {
     "data": {
      "text/plain": [
       "array([67. , 89. , 45.2, 11. , 35. ,  1. ])"
      ]
     },
     "execution_count": 56,
     "metadata": {},
     "output_type": "execute_result"
    }
   ],
   "source": [
    "z"
   ]
  },
  {
   "cell_type": "code",
   "execution_count": 65,
   "id": "6075fc7f-4e93-4808-bd44-83072d68c41d",
   "metadata": {},
   "outputs": [
    {
     "data": {
      "text/plain": [
       "array([0, 0, 0, 0, 0, 0, 0, 0, 0, 0], dtype=int16)"
      ]
     },
     "execution_count": 65,
     "metadata": {},
     "output_type": "execute_result"
    }
   ],
   "source": [
    "z = np.zeros(10, dtype=np.int16)\n",
    "z"
   ]
  },
  {
   "cell_type": "code",
   "execution_count": 66,
   "id": "e9e6c14f-e1f0-4b2b-aa19-8e382150ebb8",
   "metadata": {},
   "outputs": [
    {
     "ename": "SyntaxError",
     "evalue": "cannot assign to literal here. Maybe you meant '==' instead of '='? (2868105592.py, line 1)",
     "output_type": "error",
     "traceback": [
      "\u001b[1;36m  Cell \u001b[1;32mIn[66], line 1\u001b[1;36m\u001b[0m\n\u001b[1;33m    0 = np.ones(10, dtype==np.int16)\u001b[0m\n\u001b[1;37m    ^\u001b[0m\n\u001b[1;31mSyntaxError\u001b[0m\u001b[1;31m:\u001b[0m cannot assign to literal here. Maybe you meant '==' instead of '='?\n"
     ]
    }
   ],
   "source": [
    "0 = np.ones(10, dtype==np.int16)\n",
    "0"
   ]
  },
  {
   "cell_type": "code",
   "execution_count": 67,
   "id": "969411ab-fd43-4d98-b84d-62ef7ff5b750",
   "metadata": {},
   "outputs": [
    {
     "data": {
      "text/plain": [
       "array([4, 5, 6, 7, 8, 9])"
      ]
     },
     "execution_count": 67,
     "metadata": {},
     "output_type": "execute_result"
    }
   ],
   "source": [
    "np.arange(4,10)"
   ]
  },
  {
   "cell_type": "code",
   "execution_count": 69,
   "id": "6b13d834-884b-451e-911b-101e3afd83cf",
   "metadata": {},
   "outputs": [
    {
     "data": {
      "text/plain": [
       "array([ 2,  5,  8, 11, 14, 17])"
      ]
     },
     "execution_count": 69,
     "metadata": {},
     "output_type": "execute_result"
    }
   ],
   "source": [
    "np.arange(2,20,3)"
   ]
  },
  {
   "cell_type": "code",
   "execution_count": 71,
   "id": "f981e0e4-4deb-4c70-bf37-798cad731331",
   "metadata": {},
   "outputs": [
    {
     "data": {
      "text/plain": [
       "array([ 2,  8, 14])"
      ]
     },
     "execution_count": 71,
     "metadata": {},
     "output_type": "execute_result"
    }
   ],
   "source": [
    "np.arange(2,20,6)"
   ]
  },
  {
   "cell_type": "code",
   "execution_count": 72,
   "id": "aad06c3f-c852-490b-8238-a733be0266e9",
   "metadata": {},
   "outputs": [
    {
     "data": {
      "text/plain": [
       "array([20, 14,  8])"
      ]
     },
     "execution_count": 72,
     "metadata": {},
     "output_type": "execute_result"
    }
   ],
   "source": [
    "np.arange(20,2,-6)"
   ]
  },
  {
   "cell_type": "code",
   "execution_count": 73,
   "id": "651c405c-b9ea-4d97-ba4f-2792283ea7b2",
   "metadata": {},
   "outputs": [
    {
     "data": {
      "text/plain": [
       "array([ 1. ,  3.5,  6. ,  8.5, 11. ])"
      ]
     },
     "execution_count": 73,
     "metadata": {},
     "output_type": "execute_result"
    }
   ],
   "source": [
    "np.linspace(1,11,5)"
   ]
  },
  {
   "cell_type": "markdown",
   "id": "8231733a-4299-4eaa-8940-6b750994c64e",
   "metadata": {},
   "source": [
    "##### Array operation"
   ]
  },
  {
   "cell_type": "code",
   "execution_count": 74,
   "id": "9f9b0374-9ec8-4a31-81a2-535026cd2416",
   "metadata": {},
   "outputs": [],
   "source": [
    "num1 = np.array([56,23,44,55,23,55])\n",
    "num2 = np.array([23,24,42,53,43,35])"
   ]
  },
  {
   "cell_type": "code",
   "execution_count": 75,
   "id": "9a7255d7-a265-4334-9d97-804730380bdf",
   "metadata": {},
   "outputs": [
    {
     "data": {
      "text/plain": [
       "array([66, 33, 54, 65, 33, 65])"
      ]
     },
     "execution_count": 75,
     "metadata": {},
     "output_type": "execute_result"
    }
   ],
   "source": [
    "num1 + 10"
   ]
  },
  {
   "cell_type": "code",
   "execution_count": 76,
   "id": "57a90cb7-0a5c-451e-925c-7692be20c2f4",
   "metadata": {},
   "outputs": [
    {
     "data": {
      "text/plain": [
       "array([ 4.6,  4.8,  8.4, 10.6,  8.6,  7. ])"
      ]
     },
     "execution_count": 76,
     "metadata": {},
     "output_type": "execute_result"
    }
   ],
   "source": [
    "num2 / 5"
   ]
  },
  {
   "cell_type": "code",
   "execution_count": 77,
   "id": "9c69fa4c-50c9-40fe-ab5e-18960613c3e0",
   "metadata": {},
   "outputs": [
    {
     "data": {
      "text/plain": [
       "array([1265, 1320, 2310, 2915, 2365, 1925])"
      ]
     },
     "execution_count": 77,
     "metadata": {},
     "output_type": "execute_result"
    }
   ],
   "source": [
    "num2 * 55"
   ]
  },
  {
   "cell_type": "code",
   "execution_count": 78,
   "id": "dbe947fd-cb5f-4f7c-8b14-b3bae0c88cc3",
   "metadata": {},
   "outputs": [
    {
     "data": {
      "text/plain": [
       "[56, 23, 44, 55, 23, 55, 56, 23, 44, 55, 23, 55, 56, 23, 44, 55, 23, 55]"
      ]
     },
     "execution_count": 78,
     "metadata": {},
     "output_type": "execute_result"
    }
   ],
   "source": [
    "[56,23,44,55,23,55]*3"
   ]
  },
  {
   "cell_type": "code",
   "execution_count": 79,
   "id": "0a19a9e4-aeb5-455f-8ec4-90c274e1f061",
   "metadata": {},
   "outputs": [
    {
     "data": {
      "text/plain": [
       "array([ 79,  47,  86, 108,  66,  90])"
      ]
     },
     "execution_count": 79,
     "metadata": {},
     "output_type": "execute_result"
    }
   ],
   "source": [
    "num1 + num2"
   ]
  },
  {
   "cell_type": "code",
   "execution_count": 80,
   "id": "cfa96ce8-a871-4719-8c93-d128cc8c0819",
   "metadata": {},
   "outputs": [
    {
     "data": {
      "text/plain": [
       "array([ 33,  -1,   2,   2, -20,  20])"
      ]
     },
     "execution_count": 80,
     "metadata": {},
     "output_type": "execute_result"
    }
   ],
   "source": [
    "num1 - num2"
   ]
  },
  {
   "cell_type": "markdown",
   "id": "001950da-d3ea-4b85-a212-81573f5367f5",
   "metadata": {},
   "source": [
    "##### Matrix\n"
   ]
  },
  {
   "cell_type": "code",
   "execution_count": 88,
   "id": "cc4bf98b-2c04-4bdd-9b8c-257d57d356e1",
   "metadata": {},
   "outputs": [],
   "source": [
    "M = np.array([[2,3,5],[3,4,5], [9,0,4], [9,4,5]])"
   ]
  },
  {
   "cell_type": "code",
   "execution_count": 86,
   "id": "2d785bfc-0a60-4e0b-9f33-db37bc743999",
   "metadata": {},
   "outputs": [
    {
     "data": {
      "text/plain": [
       "array([[2, 3, 5],\n",
       "       [3, 4, 5],\n",
       "       [9, 0, 4],\n",
       "       [9, 4, 5]])"
      ]
     },
     "execution_count": 86,
     "metadata": {},
     "output_type": "execute_result"
    }
   ],
   "source": [
    "M"
   ]
  },
  {
   "cell_type": "code",
   "execution_count": 89,
   "id": "4942e13e-f397-418f-baec-6cecede24282",
   "metadata": {},
   "outputs": [
    {
     "data": {
      "text/plain": [
       "dtype('int32')"
      ]
     },
     "execution_count": 89,
     "metadata": {},
     "output_type": "execute_result"
    }
   ],
   "source": [
    "M.dtype"
   ]
  },
  {
   "cell_type": "code",
   "execution_count": 91,
   "id": "6fa89471-5144-4488-a1ae-b2a440dd536e",
   "metadata": {},
   "outputs": [
    {
     "data": {
      "text/plain": [
       "(4, 3)"
      ]
     },
     "execution_count": 91,
     "metadata": {},
     "output_type": "execute_result"
    }
   ],
   "source": [
    "M.shape"
   ]
  },
  {
   "cell_type": "code",
   "execution_count": 92,
   "id": "f92f8d34-7c01-4a50-891a-57ada5c3da2d",
   "metadata": {},
   "outputs": [
    {
     "data": {
      "text/plain": [
       "12"
      ]
     },
     "execution_count": 92,
     "metadata": {},
     "output_type": "execute_result"
    }
   ],
   "source": [
    "M.size"
   ]
  },
  {
   "cell_type": "code",
   "execution_count": 93,
   "id": "b59f5dcf-3f2e-40ec-9322-f4e1a8f7bede",
   "metadata": {},
   "outputs": [
    {
     "data": {
      "text/plain": [
       "2"
      ]
     },
     "execution_count": 93,
     "metadata": {},
     "output_type": "execute_result"
    }
   ],
   "source": [
    "M.ndim"
   ]
  },
  {
   "cell_type": "code",
   "execution_count": 96,
   "id": "d74c9ddb-c690-4882-8940-7c6d74a573e2",
   "metadata": {},
   "outputs": [
    {
     "data": {
      "text/plain": [
       "4"
      ]
     },
     "execution_count": 96,
     "metadata": {},
     "output_type": "execute_result"
    }
   ],
   "source": [
    "M[2][2]"
   ]
  },
  {
   "cell_type": "markdown",
   "id": "1f73fe27-4951-47d5-9f33-c490a8a52280",
   "metadata": {},
   "source": [
    "##### Array slicing\n"
   ]
  },
  {
   "cell_type": "code",
   "execution_count": 99,
   "id": "65c6d309-c889-47fc-884d-46d78631ce5c",
   "metadata": {},
   "outputs": [
    {
     "data": {
      "text/plain": [
       "array([[3, 4],\n",
       "       [9, 0]])"
      ]
     },
     "execution_count": 99,
     "metadata": {},
     "output_type": "execute_result"
    }
   ],
   "source": [
    "\n",
    "M[1:3, 0:2]\n"
   ]
  },
  {
   "cell_type": "code",
   "execution_count": 101,
   "id": "ecd0661d-5961-41a8-94f9-8f7ae6b90f00",
   "metadata": {},
   "outputs": [
    {
     "data": {
      "text/plain": [
       "array([[2, 3, 5, 3],\n",
       "       [4, 5, 9, 0],\n",
       "       [4, 9, 4, 5]])"
      ]
     },
     "execution_count": 101,
     "metadata": {},
     "output_type": "execute_result"
    }
   ],
   "source": [
    "M1 = M.reshape(3,4)\n",
    "M1"
   ]
  },
  {
   "cell_type": "code",
   "execution_count": 104,
   "id": "9ae74d63-fe09-4e9d-bc7e-8638bd529cd6",
   "metadata": {},
   "outputs": [
    {
     "data": {
      "text/plain": [
       "array([[2, 3],\n",
       "       [5, 3],\n",
       "       [4, 5],\n",
       "       [9, 0],\n",
       "       [4, 9],\n",
       "       [4, 5]])"
      ]
     },
     "execution_count": 104,
     "metadata": {},
     "output_type": "execute_result"
    }
   ],
   "source": [
    "M1 = M.reshape(6,2)\n",
    "M1\n"
   ]
  },
  {
   "cell_type": "code",
   "execution_count": 106,
   "id": "12fffb30-f202-4192-a372-c5c59f3aa706",
   "metadata": {},
   "outputs": [
    {
     "data": {
      "text/plain": [
       "array([[2, 3, 5],\n",
       "       [7, 8, 5],\n",
       "       [1, 1, 4],\n",
       "       [9, 4, 5]])"
      ]
     },
     "execution_count": 106,
     "metadata": {},
     "output_type": "execute_result"
    }
   ],
   "source": [
    "M[1:3, 0:2] = np.array([[7,8],[1,1]])\n",
    "M"
   ]
  },
  {
   "cell_type": "code",
   "execution_count": 107,
   "id": "6f17d7e8-e94f-4f78-b6ce-c30d94715cd6",
   "metadata": {},
   "outputs": [
    {
     "data": {
      "text/plain": [
       "array([[2, 3, 5, 7, 8, 5],\n",
       "       [1, 1, 4, 9, 4, 5]])"
      ]
     },
     "execution_count": 107,
     "metadata": {},
     "output_type": "execute_result"
    }
   ],
   "source": [
    "M.reshape(2,-1)"
   ]
  },
  {
   "cell_type": "code",
   "execution_count": 108,
   "id": "5fefb0d1-320d-4a8a-bf9e-0b351b91b27b",
   "metadata": {},
   "outputs": [
    {
     "data": {
      "text/plain": [
       "array([2, 3, 5, 7, 8, 5, 1, 1, 4, 9, 4, 5])"
      ]
     },
     "execution_count": 108,
     "metadata": {},
     "output_type": "execute_result"
    }
   ],
   "source": [
    "M.reshape(-1)"
   ]
  },
  {
   "cell_type": "code",
   "execution_count": 112,
   "id": "458a3d84-98f2-408e-9dff-9a6afb1aee28",
   "metadata": {},
   "outputs": [
    {
     "data": {
      "text/plain": [
       "array([2, 3, 5, 7, 8, 5, 1, 1, 4, 9, 4, 5])"
      ]
     },
     "execution_count": 112,
     "metadata": {},
     "output_type": "execute_result"
    }
   ],
   "source": [
    "M.flatten()"
   ]
  },
  {
   "cell_type": "code",
   "execution_count": 113,
   "id": "263564a4-8a05-4ec9-8e36-59d9c6a27488",
   "metadata": {},
   "outputs": [
    {
     "data": {
      "text/plain": [
       "array([[2, 7, 1, 9],\n",
       "       [3, 8, 1, 4],\n",
       "       [5, 5, 4, 5]])"
      ]
     },
     "execution_count": 113,
     "metadata": {},
     "output_type": "execute_result"
    }
   ],
   "source": [
    "M.T"
   ]
  },
  {
   "cell_type": "code",
   "execution_count": 114,
   "id": "2fd0cba3-a1f0-4e83-93cf-c5f13c4e0896",
   "metadata": {},
   "outputs": [
    {
     "name": "stdout",
     "output_type": "stream",
     "text": [
      "Help on built-in function min:\n",
      "\n",
      "min(...) method of numpy.ndarray instance\n",
      "    a.min(axis=None, out=None, keepdims=False, initial=<no value>, where=True)\n",
      "    \n",
      "    Return the minimum along a given axis.\n",
      "    \n",
      "    Refer to `numpy.amin` for full documentation.\n",
      "    \n",
      "    See Also\n",
      "    --------\n",
      "    numpy.amin : equivalent function\n",
      "\n"
     ]
    }
   ],
   "source": [
    "help(M.min)"
   ]
  },
  {
   "cell_type": "code",
   "execution_count": 115,
   "id": "364b794e-86f1-4acb-a261-71e22a412bd5",
   "metadata": {},
   "outputs": [
    {
     "data": {
      "text/plain": [
       "1"
      ]
     },
     "execution_count": 115,
     "metadata": {},
     "output_type": "execute_result"
    }
   ],
   "source": [
    "M.min()"
   ]
  },
  {
   "cell_type": "code",
   "execution_count": 116,
   "id": "14bb65e5-e65b-4abf-b7c1-e65468c763a6",
   "metadata": {},
   "outputs": [
    {
     "data": {
      "text/plain": [
       "array([2, 5, 1, 4])"
      ]
     },
     "execution_count": 116,
     "metadata": {},
     "output_type": "execute_result"
    }
   ],
   "source": [
    "M.min(axis=1)"
   ]
  },
  {
   "cell_type": "code",
   "execution_count": 117,
   "id": "b916abe2-5a6f-4647-a498-e19746a1c6f2",
   "metadata": {},
   "outputs": [
    {
     "data": {
      "text/plain": [
       "array([1, 1, 4])"
      ]
     },
     "execution_count": 117,
     "metadata": {},
     "output_type": "execute_result"
    }
   ],
   "source": [
    "M.min(axis=0)"
   ]
  },
  {
   "cell_type": "code",
   "execution_count": 118,
   "id": "2fa34f87-6aef-4626-85ac-fa4c3c8ea084",
   "metadata": {},
   "outputs": [
    {
     "data": {
      "text/plain": [
       "array([19, 16, 19])"
      ]
     },
     "execution_count": 118,
     "metadata": {},
     "output_type": "execute_result"
    }
   ],
   "source": [
    "M.sum(axis=0)"
   ]
  },
  {
   "cell_type": "code",
   "execution_count": 119,
   "id": "4141b426-eb37-4aeb-9f81-92b3e9975861",
   "metadata": {},
   "outputs": [
    {
     "data": {
      "text/plain": [
       "array([10, 20,  6, 18])"
      ]
     },
     "execution_count": 119,
     "metadata": {},
     "output_type": "execute_result"
    }
   ],
   "source": [
    "M.sum(axis=1)"
   ]
  },
  {
   "cell_type": "code",
   "execution_count": 120,
   "id": "3e35ecc1-e88d-407d-b9a3-da01b724cf37",
   "metadata": {},
   "outputs": [
    {
     "data": {
      "text/plain": [
       "array([67. , 89. , 45.2, 11. , 35. ])"
      ]
     },
     "execution_count": 120,
     "metadata": {},
     "output_type": "execute_result"
    }
   ],
   "source": [
    "y"
   ]
  },
  {
   "cell_type": "code",
   "execution_count": 125,
   "id": "d2586cbf-69dc-445b-8e8d-7991b6e93dc6",
   "metadata": {},
   "outputs": [
    {
     "data": {
      "text/plain": [
       "9"
      ]
     },
     "execution_count": 125,
     "metadata": {},
     "output_type": "execute_result"
    }
   ],
   "source": [
    "M.argmax()"
   ]
  },
  {
   "cell_type": "code",
   "execution_count": 126,
   "id": "c2c7d12d-7b84-4a71-9748-3b57563a448c",
   "metadata": {},
   "outputs": [
    {
     "data": {
      "text/plain": [
       "1"
      ]
     },
     "execution_count": 126,
     "metadata": {},
     "output_type": "execute_result"
    }
   ],
   "source": [
    "y.argmax()"
   ]
  },
  {
   "cell_type": "code",
   "execution_count": 127,
   "id": "53aa62ca-53b3-41b2-b4a6-97fd9f0ba5e2",
   "metadata": {},
   "outputs": [
    {
     "data": {
      "text/plain": [
       "array([67. , 89. , 45.2, 11. , 35. ])"
      ]
     },
     "execution_count": 127,
     "metadata": {},
     "output_type": "execute_result"
    }
   ],
   "source": [
    "y"
   ]
  },
  {
   "cell_type": "code",
   "execution_count": 128,
   "id": "f6c2df34-0465-413d-a051-5a466c451f9c",
   "metadata": {},
   "outputs": [
    {
     "data": {
      "text/plain": [
       "dtype('int32')"
      ]
     },
     "execution_count": 128,
     "metadata": {},
     "output_type": "execute_result"
    }
   ],
   "source": [
    "M.dtype"
   ]
  },
  {
   "cell_type": "code",
   "execution_count": 133,
   "id": "b3001861-0a0e-4bd5-974f-045720bdc08b",
   "metadata": {},
   "outputs": [
    {
     "data": {
      "text/plain": [
       "array([[2, 3, 5],\n",
       "       [7, 8, 5],\n",
       "       [1, 1, 4],\n",
       "       [9, 4, 5]], dtype=int16)"
      ]
     },
     "execution_count": 133,
     "metadata": {},
     "output_type": "execute_result"
    }
   ],
   "source": [
    "M = M.astype(np.int16)\n",
    "M"
   ]
  },
  {
   "cell_type": "code",
   "execution_count": 134,
   "id": "054b7e56-5612-46f7-a65d-36c77dfd798a",
   "metadata": {},
   "outputs": [
    {
     "data": {
      "text/plain": [
       "array([51, 67, 46, 78, 22], dtype=uint8)"
      ]
     },
     "execution_count": 134,
     "metadata": {},
     "output_type": "execute_result"
    }
   ],
   "source": [
    "x"
   ]
  },
  {
   "cell_type": "code",
   "execution_count": 135,
   "id": "5cf2349a-7715-43bb-aeb0-1d21281079ac",
   "metadata": {},
   "outputs": [],
   "source": [
    "y = x"
   ]
  },
  {
   "cell_type": "code",
   "execution_count": 136,
   "id": "9bec96a0-745a-475f-bf00-06be02b7759c",
   "metadata": {},
   "outputs": [
    {
     "data": {
      "text/plain": [
       "array([51, 67, 46, 78, 22], dtype=uint8)"
      ]
     },
     "execution_count": 136,
     "metadata": {},
     "output_type": "execute_result"
    }
   ],
   "source": [
    "y"
   ]
  },
  {
   "cell_type": "code",
   "execution_count": 137,
   "id": "4635374b-dc21-4533-b583-da21ab0f8396",
   "metadata": {},
   "outputs": [],
   "source": [
    "y[0] = 30"
   ]
  },
  {
   "cell_type": "code",
   "execution_count": 138,
   "id": "6c728719-a7c6-4b3c-99b2-c4ce10481d53",
   "metadata": {},
   "outputs": [
    {
     "data": {
      "text/plain": [
       "array([30, 67, 46, 78, 22], dtype=uint8)"
      ]
     },
     "execution_count": 138,
     "metadata": {},
     "output_type": "execute_result"
    }
   ],
   "source": [
    "x"
   ]
  },
  {
   "cell_type": "code",
   "execution_count": 139,
   "id": "a16bd539-868d-4ce4-a2ba-392e1f3c6abc",
   "metadata": {},
   "outputs": [
    {
     "data": {
      "text/plain": [
       "array([30, 67, 46, 78, 22], dtype=uint8)"
      ]
     },
     "execution_count": 139,
     "metadata": {},
     "output_type": "execute_result"
    }
   ],
   "source": [
    "y"
   ]
  },
  {
   "cell_type": "code",
   "execution_count": 140,
   "id": "fbaf7f63-0e2b-48c8-b850-a1ee87479de8",
   "metadata": {},
   "outputs": [
    {
     "data": {
      "text/plain": [
       "2287387005584"
      ]
     },
     "execution_count": 140,
     "metadata": {},
     "output_type": "execute_result"
    }
   ],
   "source": [
    "id(y)"
   ]
  },
  {
   "cell_type": "code",
   "execution_count": 141,
   "id": "760197ab-ff10-4039-8668-85527b554059",
   "metadata": {},
   "outputs": [
    {
     "data": {
      "text/plain": [
       "2287387005584"
      ]
     },
     "execution_count": 141,
     "metadata": {},
     "output_type": "execute_result"
    }
   ],
   "source": [
    "id(x)"
   ]
  },
  {
   "cell_type": "code",
   "execution_count": 142,
   "id": "a46b91f3-f6f8-4867-8a48-4a6c6b6b0855",
   "metadata": {},
   "outputs": [
    {
     "data": {
      "text/plain": [
       "array([30, 67, 46, 78, 22], dtype=uint8)"
      ]
     },
     "execution_count": 142,
     "metadata": {},
     "output_type": "execute_result"
    }
   ],
   "source": [
    "y = x.copy()\n",
    "y"
   ]
  },
  {
   "cell_type": "code",
   "execution_count": null,
   "id": "80362354-3b47-423d-b228-0ddc67e779b5",
   "metadata": {},
   "outputs": [],
   "source": []
  }
 ],
 "metadata": {
  "kernelspec": {
   "display_name": "Python 3 (ipykernel)",
   "language": "python",
   "name": "python3"
  },
  "language_info": {
   "codemirror_mode": {
    "name": "ipython",
    "version": 3
   },
   "file_extension": ".py",
   "mimetype": "text/x-python",
   "name": "python",
   "nbconvert_exporter": "python",
   "pygments_lexer": "ipython3",
   "version": "3.11.7"
  }
 },
 "nbformat": 4,
 "nbformat_minor": 5
}
