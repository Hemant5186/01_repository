{
 "cells": [
  {
   "cell_type": "code",
   "execution_count": 18,
   "id": "08493c35-d9a3-4a4a-89fd-34ecd30af7fb",
   "metadata": {},
   "outputs": [],
   "source": [
    "import numpy as np\n",
    "import matplotlib.pyplot as plt\n",
    "import cv2"
   ]
  },
  {
   "cell_type": "code",
   "execution_count": 19,
   "id": "6d767778-3633-4c52-89df-4dd493324972",
   "metadata": {},
   "outputs": [],
   "source": [
    "img = cv2.imread('images/cat_damaged.png')\n"
   ]
  },
  {
   "cell_type": "code",
   "execution_count": 20,
   "id": "534ae4e1-8f2f-4cbe-8951-d5ae36f29f27",
   "metadata": {},
   "outputs": [],
   "source": [
    "cv2.imshow('Damaged Image', img)\n",
    "cv2.waitKey(0)\n",
    "cv2.destroyAllWindows()"
   ]
  },
  {
   "cell_type": "code",
   "execution_count": 21,
   "id": "981cff2e-b4e7-4101-9228-ec49f9a3f3aa",
   "metadata": {},
   "outputs": [],
   "source": [
    "height, width = img.shape[:2]"
   ]
  },
  {
   "cell_type": "code",
   "execution_count": 22,
   "id": "d99d94d5-18b6-4c25-9931-64591e737f83",
   "metadata": {},
   "outputs": [
    {
     "data": {
      "text/plain": [
       "(400, 400)"
      ]
     },
     "execution_count": 22,
     "metadata": {},
     "output_type": "execute_result"
    }
   ],
   "source": [
    "height, width"
   ]
  },
  {
   "cell_type": "code",
   "execution_count": 23,
   "id": "85561a7f-74af-48c5-870b-d04a05572053",
   "metadata": {},
   "outputs": [],
   "source": [
    "mask = np.zeros([height, width, 3], dtype=np.uint8)"
   ]
  },
  {
   "cell_type": "code",
   "execution_count": 24,
   "id": "bb66bcbb-1ef1-4816-a29a-58d6f2a74ad5",
   "metadata": {},
   "outputs": [],
   "source": [
    "cv2.imshow('Damaged Image', mask)\n",
    "cv2.waitKey(0)\n",
    "cv2.destroyAllWindows()"
   ]
  },
  {
   "cell_type": "code",
   "execution_count": 25,
   "id": "a9542f25-d297-4c6d-87d3-bd58ee11ecfa",
   "metadata": {},
   "outputs": [],
   "source": [
    "# Converting all pixels greater than zero to black while black becomes white\n",
    "for i in range(height):\n",
    "    for j in range(width):\n",
    "        if img[i,j].sum() == 0:\n",
    "            mask[i, j] = [255, 255, 255]"
   ]
  },
  {
   "cell_type": "code",
   "execution_count": 26,
   "id": "b39acbed-b07d-4dd4-aef3-3febd13d4df7",
   "metadata": {},
   "outputs": [],
   "source": [
    "cv2.imshow('Mask', mask)\n",
    "cv2.waitKey(0)\n",
    "cv2.destroyAllWindows()"
   ]
  },
  {
   "cell_type": "code",
   "execution_count": 27,
   "id": "19f6ef83-e720-4116-8305-c383684f4c03",
   "metadata": {},
   "outputs": [],
   "source": [
    "mask = cv2.cvtColor(mask, cv2.COLOR_BGR2GRAY)"
   ]
  },
  {
   "cell_type": "code",
   "execution_count": 28,
   "id": "3a7de454-970d-4370-8865-775610d12323",
   "metadata": {},
   "outputs": [],
   "source": [
    "#Inpaint\n",
    "dst = cv2.inpaint(img, mask, 3, cv2.INPAINT_NS)"
   ]
  },
  {
   "cell_type": "code",
   "execution_count": 29,
   "id": "aa5be9dd-9fd4-4fd5-8ce7-acd62b2a534e",
   "metadata": {},
   "outputs": [],
   "source": [
    "cv2.imshow('Unmask', dst)\n",
    "cv2.waitKey(0)\n",
    "cv2.destroyAllWindows()"
   ]
  },
  {
   "cell_type": "code",
   "execution_count": null,
   "id": "453c999d-5138-4de6-8bf8-840bfe1d2c1c",
   "metadata": {},
   "outputs": [],
   "source": []
  }
 ],
 "metadata": {
  "kernelspec": {
   "display_name": "Python 3 (ipykernel)",
   "language": "python",
   "name": "python3"
  },
  "language_info": {
   "codemirror_mode": {
    "name": "ipython",
    "version": 3
   },
   "file_extension": ".py",
   "mimetype": "text/x-python",
   "name": "python",
   "nbconvert_exporter": "python",
   "pygments_lexer": "ipython3",
   "version": "3.11.7"
  }
 },
 "nbformat": 4,
 "nbformat_minor": 5
}
