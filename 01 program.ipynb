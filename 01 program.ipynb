{
 "cells": [
  {
   "cell_type": "code",
   "execution_count": 1,
   "id": "ac891961-0b2b-46e5-a04b-cde69f53a85f",
   "metadata": {},
   "outputs": [
    {
     "name": "stdout",
     "output_type": "stream",
     "text": [
      "hello world\n"
     ]
    }
   ],
   "source": [
    "print(\"hello world\")"
   ]
  },
  {
   "cell_type": "code",
   "execution_count": 4,
   "id": "01bcaf57-7dea-4050-9976-42f38620abe0",
   "metadata": {},
   "outputs": [
    {
     "name": "stdin",
     "output_type": "stream",
     "text": [
      "Enter the number: 34\n"
     ]
    },
    {
     "name": "stdout",
     "output_type": "stream",
     "text": [
      "Number is Positive:\n",
      "Good Bye\"\n"
     ]
    }
   ],
   "source": [
    "num = int(input('Enter the number:'))\n",
    "if num > 0:\n",
    "    print('Number is Positive:')\n",
    "    print('Good Bye\"')\n",
    "elif num == 0:\n",
    "    print('Number is Zero.')\n",
    "else:\n",
    "    print('Number is Negative:')"
   ]
  },
  {
   "cell_type": "markdown",
   "id": "332b7083-ba39-4e7b-8c95-ef22b899f1b9",
   "metadata": {},
   "source": [
    "##### Looping"
   ]
  },
  {
   "cell_type": "code",
   "execution_count": 6,
   "id": "68bf8436-0a8e-4cc1-b068-1ee52f0d434d",
   "metadata": {},
   "outputs": [
    {
     "name": "stdout",
     "output_type": "stream",
     "text": [
      "hemant\n",
      "hemant\n",
      "hemant\n",
      "hemant\n",
      "hemant\n",
      "hemant\n",
      "hemant\n",
      "hemant\n",
      "hemant\n",
      "hemant\n",
      "hemant\n"
     ]
    }
   ],
   "source": [
    "count = 0\n",
    "while count < 11:\n",
    "    print('hemant')\n",
    "    count = count + 1"
   ]
  },
  {
   "cell_type": "code",
   "execution_count": 7,
   "id": "948f7ef7-a2d5-4a4a-8dab-283c4e460356",
   "metadata": {},
   "outputs": [
    {
     "name": "stdout",
     "output_type": "stream",
     "text": [
      "67\n",
      "23\n",
      "16\n",
      "33\n",
      "27\n"
     ]
    }
   ],
   "source": [
    "for i in 67,23,16,33,27:\n",
    "    print(i)"
   ]
  },
  {
   "cell_type": "code",
   "execution_count": 8,
   "id": "b8da9aab-aea6-46bf-ae5e-da626e03b42c",
   "metadata": {},
   "outputs": [
    {
     "name": "stdout",
     "output_type": "stream",
     "text": [
      "PPPPPPPPPP\n",
      "uuuuuuuuuu\n",
      "nnnnnnnnnn\n",
      "eeeeeeeeee\n"
     ]
    }
   ],
   "source": [
    "for i in 'Pune':\n",
    "    print(i*10)"
   ]
  },
  {
   "cell_type": "code",
   "execution_count": 10,
   "id": "50fe0cac-ee7d-4435-8ef0-27863b97b932",
   "metadata": {},
   "outputs": [
    {
     "name": "stdout",
     "output_type": "stream",
     "text": [
      "0\n",
      "1\n",
      "4\n",
      "9\n",
      "16\n",
      "25\n",
      "36\n",
      "49\n",
      "64\n",
      "81\n"
     ]
    }
   ],
   "source": [
    "for x in range(10):\n",
    "    print(x * x)"
   ]
  },
  {
   "cell_type": "code",
   "execution_count": 11,
   "id": "dc8ecee4-ca24-49a5-8d2b-7135936d05b9",
   "metadata": {},
   "outputs": [
    {
     "name": "stdout",
     "output_type": "stream",
     "text": [
      "0\n",
      "1\n",
      "4\n",
      "9\n",
      "16\n",
      "36\n",
      "49\n",
      "64\n",
      "81\n"
     ]
    }
   ],
   "source": [
    "for x in range(10):\n",
    "    if x == 5:\n",
    "        continue\n",
    "    print(x * x)"
   ]
  },
  {
   "cell_type": "code",
   "execution_count": 12,
   "id": "e86d7fbb-fe87-42a7-9487-6cbc098651de",
   "metadata": {},
   "outputs": [],
   "source": [
    "def square(num):\n",
    "    sq = num*num\n",
    "    return sq"
   ]
  },
  {
   "cell_type": "code",
   "execution_count": 13,
   "id": "590a8ada-5dba-4bb1-ac82-82906e764baf",
   "metadata": {},
   "outputs": [
    {
     "name": "stdout",
     "output_type": "stream",
     "text": [
      "Square is: 25\n"
     ]
    }
   ],
   "source": [
    "print('Square is:', square(5))"
   ]
  },
  {
   "cell_type": "code",
   "execution_count": 14,
   "id": "95ae3d7a-917c-416f-bc60-7ee39296143b",
   "metadata": {},
   "outputs": [],
   "source": [
    "def square(num=10):\n",
    "    sq = num*num\n",
    "    return sq"
   ]
  },
  {
   "cell_type": "code",
   "execution_count": 15,
   "id": "8e0d08b2-e166-4eca-984a-71b58ad54bec",
   "metadata": {},
   "outputs": [
    {
     "data": {
      "text/plain": [
       "16"
      ]
     },
     "execution_count": 15,
     "metadata": {},
     "output_type": "execute_result"
    }
   ],
   "source": [
    "square(4)"
   ]
  },
  {
   "cell_type": "code",
   "execution_count": 17,
   "id": "4b22996c-d565-43ae-b4ac-48f81b2f07f4",
   "metadata": {},
   "outputs": [
    {
     "data": {
      "text/plain": [
       "25"
      ]
     },
     "execution_count": 17,
     "metadata": {},
     "output_type": "execute_result"
    }
   ],
   "source": [
    "square(5)"
   ]
  },
  {
   "cell_type": "code",
   "execution_count": 21,
   "id": "71c14d1c-d537-4ea1-a214-b121e6236600",
   "metadata": {},
   "outputs": [
    {
     "data": {
      "text/plain": [
       "8100"
      ]
     },
     "execution_count": 21,
     "metadata": {},
     "output_type": "execute_result"
    }
   ],
   "source": [
    "square(90)"
   ]
  },
  {
   "cell_type": "code",
   "execution_count": 25,
   "id": "394e86bc-dc62-49ca-9578-8d120d330ff9",
   "metadata": {},
   "outputs": [],
   "source": [
    "def calc(num):\n",
    "    sq=num*num\n",
    "    cu=num**3\n",
    "    return sq,cu"
   ]
  },
  {
   "cell_type": "code",
   "execution_count": 27,
   "id": "25f57e6c-cc08-425e-b8ac-65b6cc2b57f2",
   "metadata": {},
   "outputs": [
    {
     "data": {
      "text/plain": [
       "(9, 27)"
      ]
     },
     "execution_count": 27,
     "metadata": {},
     "output_type": "execute_result"
    }
   ],
   "source": [
    "calc(3)"
   ]
  },
  {
   "cell_type": "markdown",
   "id": "dddda9ce-0ed2-49a4-af14-0b78a0d64cbf",
   "metadata": {},
   "source": [
    "##### Data Structure"
   ]
  },
  {
   "cell_type": "code",
   "execution_count": 29,
   "id": "cbb61b13-1c4a-4d0d-bb64-91e6df65aead",
   "metadata": {},
   "outputs": [],
   "source": [
    "num1 = [45,67,11,34,60]"
   ]
  },
  {
   "cell_type": "code",
   "execution_count": 30,
   "id": "4c970890-04ed-4143-9807-1ea84103b29a",
   "metadata": {},
   "outputs": [
    {
     "data": {
      "text/plain": [
       "list"
      ]
     },
     "execution_count": 30,
     "metadata": {},
     "output_type": "execute_result"
    }
   ],
   "source": [
    "type(num1)"
   ]
  },
  {
   "cell_type": "code",
   "execution_count": 33,
   "id": "97ff6c25-7575-4089-93ca-7d84de7c23d5",
   "metadata": {},
   "outputs": [
    {
     "data": {
      "text/plain": [
       "60"
      ]
     },
     "execution_count": 33,
     "metadata": {},
     "output_type": "execute_result"
    }
   ],
   "source": [
    "num1[4]"
   ]
  },
  {
   "cell_type": "code",
   "execution_count": 34,
   "id": "d9a7c12f-e3fe-4808-91f5-aba5e4c373d0",
   "metadata": {},
   "outputs": [],
   "source": [
    "num2 = (45,67,11,34,60)"
   ]
  },
  {
   "cell_type": "code",
   "execution_count": 35,
   "id": "c66335dc-075d-43fa-8225-461740ece236",
   "metadata": {},
   "outputs": [
    {
     "data": {
      "text/plain": [
       "tuple"
      ]
     },
     "execution_count": 35,
     "metadata": {},
     "output_type": "execute_result"
    }
   ],
   "source": [
    "type(num2)"
   ]
  },
  {
   "cell_type": "code",
   "execution_count": 38,
   "id": "d7df6ce8-8d39-4ee9-8bb8-8ebbd5fe29c2",
   "metadata": {},
   "outputs": [],
   "source": [
    "num1[2] = 56"
   ]
  },
  {
   "cell_type": "code",
   "execution_count": 37,
   "id": "85d586b8-d362-472b-aeae-07028ae4e55f",
   "metadata": {},
   "outputs": [
    {
     "ename": "TypeError",
     "evalue": "'tuple' object does not support item assignment",
     "output_type": "error",
     "traceback": [
      "\u001b[1;31m---------------------------------------------------------------------------\u001b[0m",
      "\u001b[1;31mTypeError\u001b[0m                                 Traceback (most recent call last)",
      "Cell \u001b[1;32mIn[37], line 1\u001b[0m\n\u001b[1;32m----> 1\u001b[0m num2[\u001b[38;5;241m2\u001b[39m] \u001b[38;5;241m=\u001b[39m \u001b[38;5;241m56\u001b[39m\n",
      "\u001b[1;31mTypeError\u001b[0m: 'tuple' object does not support item assignment"
     ]
    }
   ],
   "source": [
    "num2[2] = 56"
   ]
  },
  {
   "cell_type": "code",
   "execution_count": 39,
   "id": "ac81ce50-a248-40da-92e3-cbc025989008",
   "metadata": {},
   "outputs": [],
   "source": [
    "num3 = {45,67,11,34,60}"
   ]
  },
  {
   "cell_type": "code",
   "execution_count": 40,
   "id": "1e3f2b67-6e79-44a5-8659-b7753d34c8b9",
   "metadata": {},
   "outputs": [
    {
     "data": {
      "text/plain": [
       "set"
      ]
     },
     "execution_count": 40,
     "metadata": {},
     "output_type": "execute_result"
    }
   ],
   "source": [
    "type(num3)"
   ]
  },
  {
   "cell_type": "code",
   "execution_count": 41,
   "id": "68f6fbcc-182b-45e6-9ab3-b5c92475db5b",
   "metadata": {},
   "outputs": [],
   "source": [
    "num3 = {45,67,11,67,60}"
   ]
  },
  {
   "cell_type": "code",
   "execution_count": 42,
   "id": "e824ad6f-7d1a-43cf-bbc7-95cdb5249e62",
   "metadata": {},
   "outputs": [
    {
     "data": {
      "text/plain": [
       "{11, 45, 60, 67}"
      ]
     },
     "execution_count": 42,
     "metadata": {},
     "output_type": "execute_result"
    }
   ],
   "source": [
    "num3"
   ]
  },
  {
   "cell_type": "code",
   "execution_count": 46,
   "id": "a01d8647-d283-438e-9287-4ef8908c0e64",
   "metadata": {},
   "outputs": [],
   "source": [
    "num4 = {2:46,6:67,10:11,16:34,'y':60}"
   ]
  },
  {
   "cell_type": "code",
   "execution_count": 47,
   "id": "cfc343e1-4ea4-4406-8941-b5db0fd9aa90",
   "metadata": {},
   "outputs": [
    {
     "data": {
      "text/plain": [
       "dict"
      ]
     },
     "execution_count": 47,
     "metadata": {},
     "output_type": "execute_result"
    }
   ],
   "source": [
    "type(num4)"
   ]
  },
  {
   "cell_type": "code",
   "execution_count": 48,
   "id": "1349df6c-1ce7-4502-b821-74a285c8f08a",
   "metadata": {},
   "outputs": [
    {
     "data": {
      "text/plain": [
       "67"
      ]
     },
     "execution_count": 48,
     "metadata": {},
     "output_type": "execute_result"
    }
   ],
   "source": [
    "num4[6]"
   ]
  },
  {
   "cell_type": "code",
   "execution_count": 49,
   "id": "3bd75c1b-a4a3-4a3d-9adb-174e64b2bd35",
   "metadata": {},
   "outputs": [
    {
     "data": {
      "text/plain": [
       "60"
      ]
     },
     "execution_count": 49,
     "metadata": {},
     "output_type": "execute_result"
    }
   ],
   "source": [
    "num4['y']"
   ]
  },
  {
   "cell_type": "markdown",
   "id": "edceceba-d7db-417e-a123-6f5762f35f7f",
   "metadata": {},
   "source": [
    "##### class"
   ]
  },
  {
   "cell_type": "code",
   "execution_count": 51,
   "id": "6f0537de-707c-468f-adc1-f5ed0425f4d9",
   "metadata": {},
   "outputs": [],
   "source": [
    "num1.reverse()"
   ]
  },
  {
   "cell_type": "code",
   "execution_count": 52,
   "id": "e58835bd-b9eb-4e68-9914-4293253bcaf9",
   "metadata": {},
   "outputs": [
    {
     "data": {
      "text/plain": [
       "[60, 34, 56, 67, 45]"
      ]
     },
     "execution_count": 52,
     "metadata": {},
     "output_type": "execute_result"
    }
   ],
   "source": [
    "num1"
   ]
  },
  {
   "cell_type": "code",
   "execution_count": 53,
   "id": "96826209-e9b2-4099-8989-69cadaa74cfe",
   "metadata": {},
   "outputs": [
    {
     "data": {
      "text/plain": [
       "0"
      ]
     },
     "execution_count": 53,
     "metadata": {},
     "output_type": "execute_result"
    }
   ],
   "source": [
    "num2.count(23)"
   ]
  },
  {
   "cell_type": "code",
   "execution_count": 54,
   "id": "795c10c2-2bbf-4b6f-9d92-2c2e3a699e20",
   "metadata": {},
   "outputs": [],
   "source": [
    "num3.add(1888)"
   ]
  },
  {
   "cell_type": "code",
   "execution_count": 55,
   "id": "38d2de14-5520-4a75-9ebe-109267afb5ea",
   "metadata": {},
   "outputs": [
    {
     "data": {
      "text/plain": [
       "{11, 45, 60, 67, 1888}"
      ]
     },
     "execution_count": 55,
     "metadata": {},
     "output_type": "execute_result"
    }
   ],
   "source": [
    "num3"
   ]
  },
  {
   "cell_type": "code",
   "execution_count": 56,
   "id": "da2606da-ba89-4651-b827-32e50a8ff648",
   "metadata": {},
   "outputs": [
    {
     "data": {
      "text/plain": [
       "dict_keys([2, 6, 10, 16, 'y'])"
      ]
     },
     "execution_count": 56,
     "metadata": {},
     "output_type": "execute_result"
    }
   ],
   "source": [
    "num4.keys()"
   ]
  },
  {
   "cell_type": "code",
   "execution_count": 57,
   "id": "7cf29617-a112-4b08-bfd6-92489fcd113e",
   "metadata": {},
   "outputs": [],
   "source": [
    "name = 'hemant'"
   ]
  },
  {
   "cell_type": "code",
   "execution_count": 58,
   "id": "f2e64f5c-8a60-472d-9696-09c1f4318ebd",
   "metadata": {},
   "outputs": [
    {
     "data": {
      "text/plain": [
       "'HEMANT'"
      ]
     },
     "execution_count": 58,
     "metadata": {},
     "output_type": "execute_result"
    }
   ],
   "source": [
    "name.upper()"
   ]
  },
  {
   "cell_type": "code",
   "execution_count": 60,
   "id": "b4ada5d8-4327-4df1-ad41-c5d72b06b416",
   "metadata": {},
   "outputs": [],
   "source": [
    "class Person:\n",
    "    def __init__(self,n,a):\n",
    "        self.name = n\n",
    "        self.age=a\n",
    "    def show(self):\n",
    "        print('values are:')\n",
    "        print(self.name,self.age)\n",
    "    "
   ]
  },
  {
   "cell_type": "code",
   "execution_count": 61,
   "id": "66128967-ddca-43bc-b65b-9857b0aaa21e",
   "metadata": {},
   "outputs": [],
   "source": [
    "p1 = Person('ajay',33)"
   ]
  },
  {
   "cell_type": "code",
   "execution_count": 62,
   "id": "8bdf622c-f441-46dd-8d48-3ad40268f30e",
   "metadata": {},
   "outputs": [
    {
     "data": {
      "text/plain": [
       "'ajay'"
      ]
     },
     "execution_count": 62,
     "metadata": {},
     "output_type": "execute_result"
    }
   ],
   "source": [
    "p1.name"
   ]
  },
  {
   "cell_type": "code",
   "execution_count": 63,
   "id": "172d3069-aa94-460e-ab97-4cf3df67d7b0",
   "metadata": {},
   "outputs": [
    {
     "data": {
      "text/plain": [
       "33"
      ]
     },
     "execution_count": 63,
     "metadata": {},
     "output_type": "execute_result"
    }
   ],
   "source": [
    "p1.age"
   ]
  },
  {
   "cell_type": "code",
   "execution_count": 64,
   "id": "08b1b8a7-8612-4ca5-9737-052a02ced5eb",
   "metadata": {},
   "outputs": [],
   "source": [
    "p2 = Person('vijay',39)"
   ]
  },
  {
   "cell_type": "code",
   "execution_count": 65,
   "id": "a33111c7-baf3-4801-b4cd-6a0f00706d7b",
   "metadata": {},
   "outputs": [
    {
     "name": "stdout",
     "output_type": "stream",
     "text": [
      "values are:\n",
      "vijay 39\n"
     ]
    }
   ],
   "source": [
    "p2.show()"
   ]
  },
  {
   "cell_type": "code",
   "execution_count": 66,
   "id": "aeb01a3b-c8e7-4502-8197-0d58de795f12",
   "metadata": {},
   "outputs": [],
   "source": [
    "p3 = Person('jay',3)"
   ]
  },
  {
   "cell_type": "code",
   "execution_count": 68,
   "id": "85588a57-59b1-4b16-bf78-7c943977d828",
   "metadata": {},
   "outputs": [
    {
     "name": "stdout",
     "output_type": "stream",
     "text": [
      "values are:\n",
      "jay 3\n"
     ]
    }
   ],
   "source": [
    "p3.show()"
   ]
  },
  {
   "cell_type": "markdown",
   "id": "cce3c905-43ea-4008-b0e6-1a64c23d261e",
   "metadata": {},
   "source": [
    "##### Using the libraries"
   ]
  },
  {
   "cell_type": "code",
   "execution_count": 69,
   "id": "885b6e33-db6e-43d5-b94f-0794b621b73a",
   "metadata": {},
   "outputs": [],
   "source": [
    "import math\n"
   ]
  },
  {
   "cell_type": "code",
   "execution_count": 70,
   "id": "4e4d3a37-fec5-40fa-8413-764bf9068a3a",
   "metadata": {},
   "outputs": [
    {
     "name": "stdout",
     "output_type": "stream",
     "text": [
      "Help on built-in module math:\n",
      "\n",
      "NAME\n",
      "    math\n",
      "\n",
      "DESCRIPTION\n",
      "    This module provides access to the mathematical functions\n",
      "    defined by the C standard.\n",
      "\n",
      "FUNCTIONS\n",
      "    acos(x, /)\n",
      "        Return the arc cosine (measured in radians) of x.\n",
      "        \n",
      "        The result is between 0 and pi.\n",
      "    \n",
      "    acosh(x, /)\n",
      "        Return the inverse hyperbolic cosine of x.\n",
      "    \n",
      "    asin(x, /)\n",
      "        Return the arc sine (measured in radians) of x.\n",
      "        \n",
      "        The result is between -pi/2 and pi/2.\n",
      "    \n",
      "    asinh(x, /)\n",
      "        Return the inverse hyperbolic sine of x.\n",
      "    \n",
      "    atan(x, /)\n",
      "        Return the arc tangent (measured in radians) of x.\n",
      "        \n",
      "        The result is between -pi/2 and pi/2.\n",
      "    \n",
      "    atan2(y, x, /)\n",
      "        Return the arc tangent (measured in radians) of y/x.\n",
      "        \n",
      "        Unlike atan(y/x), the signs of both x and y are considered.\n",
      "    \n",
      "    atanh(x, /)\n",
      "        Return the inverse hyperbolic tangent of x.\n",
      "    \n",
      "    cbrt(x, /)\n",
      "        Return the cube root of x.\n",
      "    \n",
      "    ceil(x, /)\n",
      "        Return the ceiling of x as an Integral.\n",
      "        \n",
      "        This is the smallest integer >= x.\n",
      "    \n",
      "    comb(n, k, /)\n",
      "        Number of ways to choose k items from n items without repetition and without order.\n",
      "        \n",
      "        Evaluates to n! / (k! * (n - k)!) when k <= n and evaluates\n",
      "        to zero when k > n.\n",
      "        \n",
      "        Also called the binomial coefficient because it is equivalent\n",
      "        to the coefficient of k-th term in polynomial expansion of the\n",
      "        expression (1 + x)**n.\n",
      "        \n",
      "        Raises TypeError if either of the arguments are not integers.\n",
      "        Raises ValueError if either of the arguments are negative.\n",
      "    \n",
      "    copysign(x, y, /)\n",
      "        Return a float with the magnitude (absolute value) of x but the sign of y.\n",
      "        \n",
      "        On platforms that support signed zeros, copysign(1.0, -0.0)\n",
      "        returns -1.0.\n",
      "    \n",
      "    cos(x, /)\n",
      "        Return the cosine of x (measured in radians).\n",
      "    \n",
      "    cosh(x, /)\n",
      "        Return the hyperbolic cosine of x.\n",
      "    \n",
      "    degrees(x, /)\n",
      "        Convert angle x from radians to degrees.\n",
      "    \n",
      "    dist(p, q, /)\n",
      "        Return the Euclidean distance between two points p and q.\n",
      "        \n",
      "        The points should be specified as sequences (or iterables) of\n",
      "        coordinates.  Both inputs must have the same dimension.\n",
      "        \n",
      "        Roughly equivalent to:\n",
      "            sqrt(sum((px - qx) ** 2.0 for px, qx in zip(p, q)))\n",
      "    \n",
      "    erf(x, /)\n",
      "        Error function at x.\n",
      "    \n",
      "    erfc(x, /)\n",
      "        Complementary error function at x.\n",
      "    \n",
      "    exp(x, /)\n",
      "        Return e raised to the power of x.\n",
      "    \n",
      "    exp2(x, /)\n",
      "        Return 2 raised to the power of x.\n",
      "    \n",
      "    expm1(x, /)\n",
      "        Return exp(x)-1.\n",
      "        \n",
      "        This function avoids the loss of precision involved in the direct evaluation of exp(x)-1 for small x.\n",
      "    \n",
      "    fabs(x, /)\n",
      "        Return the absolute value of the float x.\n",
      "    \n",
      "    factorial(n, /)\n",
      "        Find n!.\n",
      "        \n",
      "        Raise a ValueError if x is negative or non-integral.\n",
      "    \n",
      "    floor(x, /)\n",
      "        Return the floor of x as an Integral.\n",
      "        \n",
      "        This is the largest integer <= x.\n",
      "    \n",
      "    fmod(x, y, /)\n",
      "        Return fmod(x, y), according to platform C.\n",
      "        \n",
      "        x % y may differ.\n",
      "    \n",
      "    frexp(x, /)\n",
      "        Return the mantissa and exponent of x, as pair (m, e).\n",
      "        \n",
      "        m is a float and e is an int, such that x = m * 2.**e.\n",
      "        If x is 0, m and e are both 0.  Else 0.5 <= abs(m) < 1.0.\n",
      "    \n",
      "    fsum(seq, /)\n",
      "        Return an accurate floating point sum of values in the iterable seq.\n",
      "        \n",
      "        Assumes IEEE-754 floating point arithmetic.\n",
      "    \n",
      "    gamma(x, /)\n",
      "        Gamma function at x.\n",
      "    \n",
      "    gcd(*integers)\n",
      "        Greatest Common Divisor.\n",
      "    \n",
      "    hypot(...)\n",
      "        hypot(*coordinates) -> value\n",
      "        \n",
      "        Multidimensional Euclidean distance from the origin to a point.\n",
      "        \n",
      "        Roughly equivalent to:\n",
      "            sqrt(sum(x**2 for x in coordinates))\n",
      "        \n",
      "        For a two dimensional point (x, y), gives the hypotenuse\n",
      "        using the Pythagorean theorem:  sqrt(x*x + y*y).\n",
      "        \n",
      "        For example, the hypotenuse of a 3/4/5 right triangle is:\n",
      "        \n",
      "            >>> hypot(3.0, 4.0)\n",
      "            5.0\n",
      "    \n",
      "    isclose(a, b, *, rel_tol=1e-09, abs_tol=0.0)\n",
      "        Determine whether two floating point numbers are close in value.\n",
      "        \n",
      "          rel_tol\n",
      "            maximum difference for being considered \"close\", relative to the\n",
      "            magnitude of the input values\n",
      "          abs_tol\n",
      "            maximum difference for being considered \"close\", regardless of the\n",
      "            magnitude of the input values\n",
      "        \n",
      "        Return True if a is close in value to b, and False otherwise.\n",
      "        \n",
      "        For the values to be considered close, the difference between them\n",
      "        must be smaller than at least one of the tolerances.\n",
      "        \n",
      "        -inf, inf and NaN behave similarly to the IEEE 754 Standard.  That\n",
      "        is, NaN is not close to anything, even itself.  inf and -inf are\n",
      "        only close to themselves.\n",
      "    \n",
      "    isfinite(x, /)\n",
      "        Return True if x is neither an infinity nor a NaN, and False otherwise.\n",
      "    \n",
      "    isinf(x, /)\n",
      "        Return True if x is a positive or negative infinity, and False otherwise.\n",
      "    \n",
      "    isnan(x, /)\n",
      "        Return True if x is a NaN (not a number), and False otherwise.\n",
      "    \n",
      "    isqrt(n, /)\n",
      "        Return the integer part of the square root of the input.\n",
      "    \n",
      "    lcm(*integers)\n",
      "        Least Common Multiple.\n",
      "    \n",
      "    ldexp(x, i, /)\n",
      "        Return x * (2**i).\n",
      "        \n",
      "        This is essentially the inverse of frexp().\n",
      "    \n",
      "    lgamma(x, /)\n",
      "        Natural logarithm of absolute value of Gamma function at x.\n",
      "    \n",
      "    log(...)\n",
      "        log(x, [base=math.e])\n",
      "        Return the logarithm of x to the given base.\n",
      "        \n",
      "        If the base not specified, returns the natural logarithm (base e) of x.\n",
      "    \n",
      "    log10(x, /)\n",
      "        Return the base 10 logarithm of x.\n",
      "    \n",
      "    log1p(x, /)\n",
      "        Return the natural logarithm of 1+x (base e).\n",
      "        \n",
      "        The result is computed in a way which is accurate for x near zero.\n",
      "    \n",
      "    log2(x, /)\n",
      "        Return the base 2 logarithm of x.\n",
      "    \n",
      "    modf(x, /)\n",
      "        Return the fractional and integer parts of x.\n",
      "        \n",
      "        Both results carry the sign of x and are floats.\n",
      "    \n",
      "    nextafter(x, y, /)\n",
      "        Return the next floating-point value after x towards y.\n",
      "    \n",
      "    perm(n, k=None, /)\n",
      "        Number of ways to choose k items from n items without repetition and with order.\n",
      "        \n",
      "        Evaluates to n! / (n - k)! when k <= n and evaluates\n",
      "        to zero when k > n.\n",
      "        \n",
      "        If k is not specified or is None, then k defaults to n\n",
      "        and the function returns n!.\n",
      "        \n",
      "        Raises TypeError if either of the arguments are not integers.\n",
      "        Raises ValueError if either of the arguments are negative.\n",
      "    \n",
      "    pow(x, y, /)\n",
      "        Return x**y (x to the power of y).\n",
      "    \n",
      "    prod(iterable, /, *, start=1)\n",
      "        Calculate the product of all the elements in the input iterable.\n",
      "        \n",
      "        The default start value for the product is 1.\n",
      "        \n",
      "        When the iterable is empty, return the start value.  This function is\n",
      "        intended specifically for use with numeric values and may reject\n",
      "        non-numeric types.\n",
      "    \n",
      "    radians(x, /)\n",
      "        Convert angle x from degrees to radians.\n",
      "    \n",
      "    remainder(x, y, /)\n",
      "        Difference between x and the closest integer multiple of y.\n",
      "        \n",
      "        Return x - n*y where n*y is the closest integer multiple of y.\n",
      "        In the case where x is exactly halfway between two multiples of\n",
      "        y, the nearest even value of n is used. The result is always exact.\n",
      "    \n",
      "    sin(x, /)\n",
      "        Return the sine of x (measured in radians).\n",
      "    \n",
      "    sinh(x, /)\n",
      "        Return the hyperbolic sine of x.\n",
      "    \n",
      "    sqrt(x, /)\n",
      "        Return the square root of x.\n",
      "    \n",
      "    tan(x, /)\n",
      "        Return the tangent of x (measured in radians).\n",
      "    \n",
      "    tanh(x, /)\n",
      "        Return the hyperbolic tangent of x.\n",
      "    \n",
      "    trunc(x, /)\n",
      "        Truncates the Real x to the nearest Integral toward 0.\n",
      "        \n",
      "        Uses the __trunc__ magic method.\n",
      "    \n",
      "    ulp(x, /)\n",
      "        Return the value of the least significant bit of the float x.\n",
      "\n",
      "DATA\n",
      "    e = 2.718281828459045\n",
      "    inf = inf\n",
      "    nan = nan\n",
      "    pi = 3.141592653589793\n",
      "    tau = 6.283185307179586\n",
      "\n",
      "FILE\n",
      "    (built-in)\n",
      "\n",
      "\n"
     ]
    }
   ],
   "source": [
    "help(math)"
   ]
  },
  {
   "cell_type": "code",
   "execution_count": 71,
   "id": "09d0f6f9-c618-43fc-8e98-f1ea9f04d5ad",
   "metadata": {},
   "outputs": [
    {
     "data": {
      "text/plain": [
       "2.5649493574615367"
      ]
     },
     "execution_count": 71,
     "metadata": {},
     "output_type": "execute_result"
    }
   ],
   "source": [
    "math.log(13)"
   ]
  },
  {
   "cell_type": "code",
   "execution_count": 72,
   "id": "9424e249-c4cc-40a3-89d9-77cde2207712",
   "metadata": {},
   "outputs": [
    {
     "data": {
      "text/plain": [
       "1.6197751905438615"
      ]
     },
     "execution_count": 72,
     "metadata": {},
     "output_type": "execute_result"
    }
   ],
   "source": [
    "math.tan(45)"
   ]
  },
  {
   "cell_type": "code",
   "execution_count": 73,
   "id": "bfc3d215-483a-4af1-9699-521f0d6f992d",
   "metadata": {},
   "outputs": [
    {
     "data": {
      "text/plain": [
       "24"
      ]
     },
     "execution_count": 73,
     "metadata": {},
     "output_type": "execute_result"
    }
   ],
   "source": [
    "math.factorial(4)"
   ]
  },
  {
   "cell_type": "code",
   "execution_count": 74,
   "id": "9d5b3ba2-5f81-44e2-9109-dc42742e82cc",
   "metadata": {},
   "outputs": [
    {
     "data": {
      "text/plain": [
       "3.141592653589793"
      ]
     },
     "execution_count": 74,
     "metadata": {},
     "output_type": "execute_result"
    }
   ],
   "source": [
    "math.pi"
   ]
  },
  {
   "cell_type": "code",
   "execution_count": 75,
   "id": "9e7dbca1-a7b2-4f67-8394-45671d24ea68",
   "metadata": {},
   "outputs": [],
   "source": [
    "import math as m"
   ]
  },
  {
   "cell_type": "code",
   "execution_count": 76,
   "id": "95bff8a8-7177-41bd-869a-0e3589214129",
   "metadata": {},
   "outputs": [
    {
     "data": {
      "text/plain": [
       "4.898979485566356"
      ]
     },
     "execution_count": 76,
     "metadata": {},
     "output_type": "execute_result"
    }
   ],
   "source": [
    "m.sqrt(24)"
   ]
  },
  {
   "cell_type": "code",
   "execution_count": 77,
   "id": "4584763e-f71d-4650-8800-387d11f8e6fb",
   "metadata": {},
   "outputs": [
    {
     "data": {
      "text/plain": [
       "1.0791812460476249"
      ]
     },
     "execution_count": 77,
     "metadata": {},
     "output_type": "execute_result"
    }
   ],
   "source": [
    "m.log10(12)"
   ]
  },
  {
   "cell_type": "code",
   "execution_count": 84,
   "id": "2ca6a381-648e-4071-91f4-b7b47e205fdf",
   "metadata": {},
   "outputs": [],
   "source": [
    "from math import sqrt, pi, cos"
   ]
  },
  {
   "cell_type": "code",
   "execution_count": 79,
   "id": "0df41b62-f518-49aa-a988-6cb0c3a9cd1d",
   "metadata": {},
   "outputs": [
    {
     "data": {
      "text/plain": [
       "4.358898943540674"
      ]
     },
     "execution_count": 79,
     "metadata": {},
     "output_type": "execute_result"
    }
   ],
   "source": [
    "sqrt(19)"
   ]
  },
  {
   "cell_type": "code",
   "execution_count": 80,
   "id": "20b585c3-f240-426e-ae10-35eb77f2ce7c",
   "metadata": {},
   "outputs": [
    {
     "data": {
      "text/plain": [
       "3.141592653589793"
      ]
     },
     "execution_count": 80,
     "metadata": {},
     "output_type": "execute_result"
    }
   ],
   "source": [
    "pi"
   ]
  },
  {
   "cell_type": "code",
   "execution_count": 81,
   "id": "b9098618-c870-4ac2-aa4c-b2ebce2ef93d",
   "metadata": {},
   "outputs": [
    {
     "data": {
      "text/plain": [
       "2.0"
      ]
     },
     "execution_count": 81,
     "metadata": {},
     "output_type": "execute_result"
    }
   ],
   "source": [
    "sqrt(4)"
   ]
  },
  {
   "cell_type": "code",
   "execution_count": 85,
   "id": "472bcd20-d089-40ff-addc-9837d0aeddba",
   "metadata": {},
   "outputs": [
    {
     "data": {
      "text/plain": [
       "0.5253219888177297"
      ]
     },
     "execution_count": 85,
     "metadata": {},
     "output_type": "execute_result"
    }
   ],
   "source": [
    "cos(45)"
   ]
  },
  {
   "cell_type": "code",
   "execution_count": null,
   "id": "e4470411-3ee3-4253-983c-3d2590695e75",
   "metadata": {},
   "outputs": [],
   "source": []
  }
 ],
 "metadata": {
  "kernelspec": {
   "display_name": "Python 3 (ipykernel)",
   "language": "python",
   "name": "python3"
  },
  "language_info": {
   "codemirror_mode": {
    "name": "ipython",
    "version": 3
   },
   "file_extension": ".py",
   "mimetype": "text/x-python",
   "name": "python",
   "nbconvert_exporter": "python",
   "pygments_lexer": "ipython3",
   "version": "3.11.7"
  }
 },
 "nbformat": 4,
 "nbformat_minor": 5
}
