{
 "cells": [
  {
   "cell_type": "code",
   "execution_count": 1,
   "id": "8be2ff76-a8d8-4b04-9ddf-c47e26b86bcf",
   "metadata": {},
   "outputs": [],
   "source": [
    "import pandas as pd"
   ]
  },
  {
   "cell_type": "code",
   "execution_count": 2,
   "id": "5eddcb61-7727-4b30-9655-bcbfa516dacd",
   "metadata": {},
   "outputs": [
    {
     "data": {
      "text/html": [
       "<div>\n",
       "<style scoped>\n",
       "    .dataframe tbody tr th:only-of-type {\n",
       "        vertical-align: middle;\n",
       "    }\n",
       "\n",
       "    .dataframe tbody tr th {\n",
       "        vertical-align: top;\n",
       "    }\n",
       "\n",
       "    .dataframe thead th {\n",
       "        text-align: right;\n",
       "    }\n",
       "</style>\n",
       "<table border=\"1\" class=\"dataframe\">\n",
       "  <thead>\n",
       "    <tr style=\"text-align: right;\">\n",
       "      <th></th>\n",
       "      <th>roll</th>\n",
       "      <th>name</th>\n",
       "      <th>class</th>\n",
       "      <th>marks</th>\n",
       "      <th>age</th>\n",
       "    </tr>\n",
       "  </thead>\n",
       "  <tbody>\n",
       "    <tr>\n",
       "      <th>0</th>\n",
       "      <td>1</td>\n",
       "      <td>anil</td>\n",
       "      <td>TE</td>\n",
       "      <td>56.77</td>\n",
       "      <td>22.0</td>\n",
       "    </tr>\n",
       "    <tr>\n",
       "      <th>1</th>\n",
       "      <td>2</td>\n",
       "      <td>amit</td>\n",
       "      <td>TE</td>\n",
       "      <td>59.77</td>\n",
       "      <td>21.0</td>\n",
       "    </tr>\n",
       "    <tr>\n",
       "      <th>2</th>\n",
       "      <td>3</td>\n",
       "      <td>aniket</td>\n",
       "      <td>BE</td>\n",
       "      <td>76.88</td>\n",
       "      <td>19.0</td>\n",
       "    </tr>\n",
       "    <tr>\n",
       "      <th>3</th>\n",
       "      <td>4</td>\n",
       "      <td>ajinkya</td>\n",
       "      <td>TE</td>\n",
       "      <td>69.66</td>\n",
       "      <td>20.0</td>\n",
       "    </tr>\n",
       "    <tr>\n",
       "      <th>4</th>\n",
       "      <td>5</td>\n",
       "      <td>asha</td>\n",
       "      <td>TE</td>\n",
       "      <td>63.28</td>\n",
       "      <td>NaN</td>\n",
       "    </tr>\n",
       "    <tr>\n",
       "      <th>5</th>\n",
       "      <td>6</td>\n",
       "      <td>ayesha</td>\n",
       "      <td>BE</td>\n",
       "      <td>NaN</td>\n",
       "      <td>20.0</td>\n",
       "    </tr>\n",
       "    <tr>\n",
       "      <th>6</th>\n",
       "      <td>7</td>\n",
       "      <td>amar</td>\n",
       "      <td>BE</td>\n",
       "      <td>65.34</td>\n",
       "      <td>19.0</td>\n",
       "    </tr>\n",
       "    <tr>\n",
       "      <th>7</th>\n",
       "      <td>8</td>\n",
       "      <td>Amita</td>\n",
       "      <td>be</td>\n",
       "      <td>68.33</td>\n",
       "      <td>23.0</td>\n",
       "    </tr>\n",
       "    <tr>\n",
       "      <th>8</th>\n",
       "      <td>9</td>\n",
       "      <td>amol</td>\n",
       "      <td>TE</td>\n",
       "      <td>56.75</td>\n",
       "      <td>20.0</td>\n",
       "    </tr>\n",
       "    <tr>\n",
       "      <th>9</th>\n",
       "      <td>9</td>\n",
       "      <td>amol</td>\n",
       "      <td>TE</td>\n",
       "      <td>56.75</td>\n",
       "      <td>20.0</td>\n",
       "    </tr>\n",
       "    <tr>\n",
       "      <th>10</th>\n",
       "      <td>10</td>\n",
       "      <td>anmol</td>\n",
       "      <td>BE</td>\n",
       "      <td>78.66</td>\n",
       "      <td>NaN</td>\n",
       "    </tr>\n",
       "    <tr>\n",
       "      <th>11</th>\n",
       "      <td>11</td>\n",
       "      <td>surbhi</td>\n",
       "      <td>TE</td>\n",
       "      <td>NaN</td>\n",
       "      <td>23.0</td>\n",
       "    </tr>\n",
       "    <tr>\n",
       "      <th>12</th>\n",
       "      <td>12</td>\n",
       "      <td>Sujay</td>\n",
       "      <td>TE</td>\n",
       "      <td>74.12</td>\n",
       "      <td>22.0</td>\n",
       "    </tr>\n",
       "    <tr>\n",
       "      <th>13</th>\n",
       "      <td>13</td>\n",
       "      <td>subhash</td>\n",
       "      <td>be</td>\n",
       "      <td>88.45</td>\n",
       "      <td>21.0</td>\n",
       "    </tr>\n",
       "    <tr>\n",
       "      <th>14</th>\n",
       "      <td>14</td>\n",
       "      <td>sachin</td>\n",
       "      <td>NaN</td>\n",
       "      <td>59.33</td>\n",
       "      <td>21.0</td>\n",
       "    </tr>\n",
       "    <tr>\n",
       "      <th>15</th>\n",
       "      <td>15</td>\n",
       "      <td>shalini</td>\n",
       "      <td>TE</td>\n",
       "      <td>63.45</td>\n",
       "      <td>20.0</td>\n",
       "    </tr>\n",
       "  </tbody>\n",
       "</table>\n",
       "</div>"
      ],
      "text/plain": [
       "    roll     name class  marks    age\n",
       "0      1     anil    TE   56.77  22.0\n",
       "1      2     amit    TE   59.77  21.0\n",
       "2      3   aniket    BE   76.88  19.0\n",
       "3      4  ajinkya    TE   69.66  20.0\n",
       "4      5     asha    TE   63.28   NaN\n",
       "5      6   ayesha    BE     NaN  20.0\n",
       "6      7     amar    BE   65.34  19.0\n",
       "7      8    Amita    be   68.33  23.0\n",
       "8      9     amol    TE   56.75  20.0\n",
       "9      9     amol    TE   56.75  20.0\n",
       "10    10    anmol    BE   78.66   NaN\n",
       "11    11   surbhi    TE     NaN  23.0\n",
       "12    12    Sujay    TE   74.12  22.0\n",
       "13    13  subhash    be   88.45  21.0\n",
       "14    14   sachin   NaN   59.33  21.0\n",
       "15    15  shalini    TE   63.45  20.0"
      ]
     },
     "execution_count": 2,
     "metadata": {},
     "output_type": "execute_result"
    }
   ],
   "source": [
    "df = pd.read_csv('datasets/student3.csv')\n",
    "df\n"
   ]
  },
  {
   "cell_type": "code",
   "execution_count": 3,
   "id": "9a60646c-4f46-4ab7-91ad-c511d04df993",
   "metadata": {},
   "outputs": [
    {
     "data": {
      "text/plain": [
       "20.785714285714285"
      ]
     },
     "execution_count": 3,
     "metadata": {},
     "output_type": "execute_result"
    }
   ],
   "source": [
    "# Find the average of age\n",
    "df['age'].mean()"
   ]
  },
  {
   "cell_type": "code",
   "execution_count": 4,
   "id": "5ee95b5b-5aa3-40e1-9614-5de9ec32ee39",
   "metadata": {},
   "outputs": [
    {
     "data": {
      "text/plain": [
       "66.96714285714286"
      ]
     },
     "execution_count": 4,
     "metadata": {},
     "output_type": "execute_result"
    }
   ],
   "source": [
    "df['marks '].mean()"
   ]
  },
  {
   "cell_type": "code",
   "execution_count": 5,
   "id": "28ea8818-15b0-4f8c-8d37-9c6bc13d4c56",
   "metadata": {},
   "outputs": [
    {
     "data": {
      "text/plain": [
       "Index(['roll', 'name', 'class', 'marks', 'age'], dtype='object')"
      ]
     },
     "execution_count": 5,
     "metadata": {},
     "output_type": "execute_result"
    }
   ],
   "source": [
    "df.columns.str.strip()"
   ]
  },
  {
   "cell_type": "code",
   "execution_count": 6,
   "id": "2a2a911b-3edf-4907-b1b7-7dd7bab80f3c",
   "metadata": {},
   "outputs": [],
   "source": [
    "df.columns = df.columns.str.strip()"
   ]
  },
  {
   "cell_type": "code",
   "execution_count": 7,
   "id": "556632e8-519a-42f0-b8f7-d71bd8873788",
   "metadata": {},
   "outputs": [
    {
     "data": {
      "text/plain": [
       "66.96714285714286"
      ]
     },
     "execution_count": 7,
     "metadata": {},
     "output_type": "execute_result"
    }
   ],
   "source": [
    "df['marks'].mean()"
   ]
  },
  {
   "cell_type": "code",
   "execution_count": 8,
   "id": "72b58295-3843-4264-a473-0de34fc29c3a",
   "metadata": {},
   "outputs": [
    {
     "data": {
      "text/plain": [
       "class\n",
       "TE    9\n",
       "BE    4\n",
       "be    2\n",
       "Name: count, dtype: int64"
      ]
     },
     "execution_count": 8,
     "metadata": {},
     "output_type": "execute_result"
    }
   ],
   "source": [
    "df['class'].value_counts()"
   ]
  },
  {
   "cell_type": "code",
   "execution_count": 9,
   "id": "db693399-f1ec-4d3d-85c4-0ca4402421c9",
   "metadata": {},
   "outputs": [],
   "source": [
    "df['class'] = df['class'].str.upper()"
   ]
  },
  {
   "cell_type": "code",
   "execution_count": 10,
   "id": "a53dfd70-0c36-4907-9565-a8f9dfa76cf9",
   "metadata": {},
   "outputs": [
    {
     "data": {
      "text/plain": [
       "class\n",
       "TE    9\n",
       "BE    6\n",
       "Name: count, dtype: int64"
      ]
     },
     "execution_count": 10,
     "metadata": {},
     "output_type": "execute_result"
    }
   ],
   "source": [
    "df['class'].value_counts()"
   ]
  },
  {
   "cell_type": "code",
   "execution_count": 11,
   "id": "454c907c-01f9-4eec-91dc-7dafe573f89a",
   "metadata": {},
   "outputs": [],
   "source": [
    "df['name'] = df['name'].str.title()"
   ]
  },
  {
   "cell_type": "code",
   "execution_count": 12,
   "id": "d60a15c1-2d66-4f58-870e-407f0bf29c31",
   "metadata": {},
   "outputs": [
    {
     "data": {
      "text/plain": [
       "name\n",
       "Amol       2\n",
       "Anil       1\n",
       "Amit       1\n",
       "Aniket     1\n",
       "Ajinkya    1\n",
       "Asha       1\n",
       "Ayesha     1\n",
       "Amar       1\n",
       "Amita      1\n",
       "Anmol      1\n",
       "Surbhi     1\n",
       "Sujay      1\n",
       "Subhash    1\n",
       "Sachin     1\n",
       "Shalini    1\n",
       "Name: count, dtype: int64"
      ]
     },
     "execution_count": 12,
     "metadata": {},
     "output_type": "execute_result"
    }
   ],
   "source": [
    "df['name'].value_counts()"
   ]
  },
  {
   "cell_type": "code",
   "execution_count": 13,
   "id": "1bc28ac4-d916-42d8-81a9-cf8a31d156be",
   "metadata": {},
   "outputs": [
    {
     "data": {
      "text/plain": [
       "0     False\n",
       "1     False\n",
       "2     False\n",
       "3     False\n",
       "4     False\n",
       "5     False\n",
       "6     False\n",
       "7     False\n",
       "8     False\n",
       "9      True\n",
       "10    False\n",
       "11    False\n",
       "12    False\n",
       "13    False\n",
       "14    False\n",
       "15    False\n",
       "dtype: bool"
      ]
     },
     "execution_count": 13,
     "metadata": {},
     "output_type": "execute_result"
    }
   ],
   "source": [
    "df.duplicated()"
   ]
  },
  {
   "cell_type": "code",
   "execution_count": 14,
   "id": "dea56046-87cc-40bd-9a2e-f47956e6d03e",
   "metadata": {},
   "outputs": [
    {
     "data": {
      "text/html": [
       "<div>\n",
       "<style scoped>\n",
       "    .dataframe tbody tr th:only-of-type {\n",
       "        vertical-align: middle;\n",
       "    }\n",
       "\n",
       "    .dataframe tbody tr th {\n",
       "        vertical-align: top;\n",
       "    }\n",
       "\n",
       "    .dataframe thead th {\n",
       "        text-align: right;\n",
       "    }\n",
       "</style>\n",
       "<table border=\"1\" class=\"dataframe\">\n",
       "  <thead>\n",
       "    <tr style=\"text-align: right;\">\n",
       "      <th></th>\n",
       "      <th>roll</th>\n",
       "      <th>name</th>\n",
       "      <th>class</th>\n",
       "      <th>marks</th>\n",
       "      <th>age</th>\n",
       "    </tr>\n",
       "  </thead>\n",
       "  <tbody>\n",
       "    <tr>\n",
       "      <th>9</th>\n",
       "      <td>9</td>\n",
       "      <td>Amol</td>\n",
       "      <td>TE</td>\n",
       "      <td>56.75</td>\n",
       "      <td>20.0</td>\n",
       "    </tr>\n",
       "  </tbody>\n",
       "</table>\n",
       "</div>"
      ],
      "text/plain": [
       "   roll  name class  marks   age\n",
       "9     9  Amol    TE  56.75  20.0"
      ]
     },
     "execution_count": 14,
     "metadata": {},
     "output_type": "execute_result"
    }
   ],
   "source": [
    "df[df.duplicated()]"
   ]
  },
  {
   "cell_type": "code",
   "execution_count": 15,
   "id": "b941c7ee-23e7-45c1-921e-d3f1657fabd2",
   "metadata": {},
   "outputs": [],
   "source": [
    "df.drop_duplicates(inplace=True)"
   ]
  },
  {
   "cell_type": "code",
   "execution_count": 16,
   "id": "08583373-d152-465a-9cc5-d7ac4b6abafd",
   "metadata": {},
   "outputs": [
    {
     "data": {
      "text/plain": [
       "0     False\n",
       "1     False\n",
       "2     False\n",
       "3     False\n",
       "4     False\n",
       "5     False\n",
       "6     False\n",
       "7     False\n",
       "8     False\n",
       "10    False\n",
       "11    False\n",
       "12    False\n",
       "13    False\n",
       "14    False\n",
       "15    False\n",
       "dtype: bool"
      ]
     },
     "execution_count": 16,
     "metadata": {},
     "output_type": "execute_result"
    }
   ],
   "source": [
    "df.duplicated()"
   ]
  },
  {
   "cell_type": "code",
   "execution_count": 17,
   "id": "e76e2313-3d41-4b11-82c5-a68145c7160d",
   "metadata": {},
   "outputs": [
    {
     "data": {
      "text/plain": [
       "roll     15\n",
       "name     15\n",
       "class    14\n",
       "marks    13\n",
       "age      13\n",
       "dtype: int64"
      ]
     },
     "execution_count": 17,
     "metadata": {},
     "output_type": "execute_result"
    }
   ],
   "source": [
    "df.count()"
   ]
  },
  {
   "cell_type": "code",
   "execution_count": 18,
   "id": "33bce639-58cc-44f1-a2d4-3dc07dfda22f",
   "metadata": {},
   "outputs": [
    {
     "data": {
      "text/html": [
       "<div>\n",
       "<style scoped>\n",
       "    .dataframe tbody tr th:only-of-type {\n",
       "        vertical-align: middle;\n",
       "    }\n",
       "\n",
       "    .dataframe tbody tr th {\n",
       "        vertical-align: top;\n",
       "    }\n",
       "\n",
       "    .dataframe thead th {\n",
       "        text-align: right;\n",
       "    }\n",
       "</style>\n",
       "<table border=\"1\" class=\"dataframe\">\n",
       "  <thead>\n",
       "    <tr style=\"text-align: right;\">\n",
       "      <th></th>\n",
       "      <th>roll</th>\n",
       "      <th>name</th>\n",
       "      <th>class</th>\n",
       "      <th>marks</th>\n",
       "      <th>age</th>\n",
       "    </tr>\n",
       "  </thead>\n",
       "  <tbody>\n",
       "    <tr>\n",
       "      <th>0</th>\n",
       "      <td>False</td>\n",
       "      <td>False</td>\n",
       "      <td>False</td>\n",
       "      <td>False</td>\n",
       "      <td>False</td>\n",
       "    </tr>\n",
       "    <tr>\n",
       "      <th>1</th>\n",
       "      <td>False</td>\n",
       "      <td>False</td>\n",
       "      <td>False</td>\n",
       "      <td>False</td>\n",
       "      <td>False</td>\n",
       "    </tr>\n",
       "    <tr>\n",
       "      <th>2</th>\n",
       "      <td>False</td>\n",
       "      <td>False</td>\n",
       "      <td>False</td>\n",
       "      <td>False</td>\n",
       "      <td>False</td>\n",
       "    </tr>\n",
       "    <tr>\n",
       "      <th>3</th>\n",
       "      <td>False</td>\n",
       "      <td>False</td>\n",
       "      <td>False</td>\n",
       "      <td>False</td>\n",
       "      <td>False</td>\n",
       "    </tr>\n",
       "    <tr>\n",
       "      <th>4</th>\n",
       "      <td>False</td>\n",
       "      <td>False</td>\n",
       "      <td>False</td>\n",
       "      <td>False</td>\n",
       "      <td>True</td>\n",
       "    </tr>\n",
       "    <tr>\n",
       "      <th>5</th>\n",
       "      <td>False</td>\n",
       "      <td>False</td>\n",
       "      <td>False</td>\n",
       "      <td>True</td>\n",
       "      <td>False</td>\n",
       "    </tr>\n",
       "    <tr>\n",
       "      <th>6</th>\n",
       "      <td>False</td>\n",
       "      <td>False</td>\n",
       "      <td>False</td>\n",
       "      <td>False</td>\n",
       "      <td>False</td>\n",
       "    </tr>\n",
       "    <tr>\n",
       "      <th>7</th>\n",
       "      <td>False</td>\n",
       "      <td>False</td>\n",
       "      <td>False</td>\n",
       "      <td>False</td>\n",
       "      <td>False</td>\n",
       "    </tr>\n",
       "    <tr>\n",
       "      <th>8</th>\n",
       "      <td>False</td>\n",
       "      <td>False</td>\n",
       "      <td>False</td>\n",
       "      <td>False</td>\n",
       "      <td>False</td>\n",
       "    </tr>\n",
       "    <tr>\n",
       "      <th>10</th>\n",
       "      <td>False</td>\n",
       "      <td>False</td>\n",
       "      <td>False</td>\n",
       "      <td>False</td>\n",
       "      <td>True</td>\n",
       "    </tr>\n",
       "    <tr>\n",
       "      <th>11</th>\n",
       "      <td>False</td>\n",
       "      <td>False</td>\n",
       "      <td>False</td>\n",
       "      <td>True</td>\n",
       "      <td>False</td>\n",
       "    </tr>\n",
       "    <tr>\n",
       "      <th>12</th>\n",
       "      <td>False</td>\n",
       "      <td>False</td>\n",
       "      <td>False</td>\n",
       "      <td>False</td>\n",
       "      <td>False</td>\n",
       "    </tr>\n",
       "    <tr>\n",
       "      <th>13</th>\n",
       "      <td>False</td>\n",
       "      <td>False</td>\n",
       "      <td>False</td>\n",
       "      <td>False</td>\n",
       "      <td>False</td>\n",
       "    </tr>\n",
       "    <tr>\n",
       "      <th>14</th>\n",
       "      <td>False</td>\n",
       "      <td>False</td>\n",
       "      <td>True</td>\n",
       "      <td>False</td>\n",
       "      <td>False</td>\n",
       "    </tr>\n",
       "    <tr>\n",
       "      <th>15</th>\n",
       "      <td>False</td>\n",
       "      <td>False</td>\n",
       "      <td>False</td>\n",
       "      <td>False</td>\n",
       "      <td>False</td>\n",
       "    </tr>\n",
       "  </tbody>\n",
       "</table>\n",
       "</div>"
      ],
      "text/plain": [
       "     roll   name  class  marks    age\n",
       "0   False  False  False  False  False\n",
       "1   False  False  False  False  False\n",
       "2   False  False  False  False  False\n",
       "3   False  False  False  False  False\n",
       "4   False  False  False  False   True\n",
       "5   False  False  False   True  False\n",
       "6   False  False  False  False  False\n",
       "7   False  False  False  False  False\n",
       "8   False  False  False  False  False\n",
       "10  False  False  False  False   True\n",
       "11  False  False  False   True  False\n",
       "12  False  False  False  False  False\n",
       "13  False  False  False  False  False\n",
       "14  False  False   True  False  False\n",
       "15  False  False  False  False  False"
      ]
     },
     "execution_count": 18,
     "metadata": {},
     "output_type": "execute_result"
    }
   ],
   "source": [
    "df.isnull()"
   ]
  },
  {
   "cell_type": "code",
   "execution_count": 19,
   "id": "71b9a054-e0cb-446b-9056-ece14f4fd578",
   "metadata": {},
   "outputs": [
    {
     "data": {
      "text/plain": [
       "roll     0\n",
       "name     0\n",
       "class    1\n",
       "marks    2\n",
       "age      2\n",
       "dtype: int64"
      ]
     },
     "execution_count": 19,
     "metadata": {},
     "output_type": "execute_result"
    }
   ],
   "source": [
    "df.isnull().sum()"
   ]
  },
  {
   "cell_type": "code",
   "execution_count": 20,
   "id": "168d67a8-c9ad-41fd-8d76-baef3d25d3f6",
   "metadata": {},
   "outputs": [
    {
     "data": {
      "text/plain": [
       "70"
      ]
     },
     "execution_count": 20,
     "metadata": {},
     "output_type": "execute_result"
    }
   ],
   "source": [
    "df.count().sum()"
   ]
  },
  {
   "cell_type": "code",
   "execution_count": 21,
   "id": "060d2eb7-7122-43c2-8a8d-86be90ea5dca",
   "metadata": {},
   "outputs": [
    {
     "data": {
      "text/html": [
       "<div>\n",
       "<style scoped>\n",
       "    .dataframe tbody tr th:only-of-type {\n",
       "        vertical-align: middle;\n",
       "    }\n",
       "\n",
       "    .dataframe tbody tr th {\n",
       "        vertical-align: top;\n",
       "    }\n",
       "\n",
       "    .dataframe thead th {\n",
       "        text-align: right;\n",
       "    }\n",
       "</style>\n",
       "<table border=\"1\" class=\"dataframe\">\n",
       "  <thead>\n",
       "    <tr style=\"text-align: right;\">\n",
       "      <th></th>\n",
       "      <th>roll</th>\n",
       "      <th>name</th>\n",
       "      <th>class</th>\n",
       "      <th>marks</th>\n",
       "      <th>age</th>\n",
       "    </tr>\n",
       "  </thead>\n",
       "  <tbody>\n",
       "    <tr>\n",
       "      <th>0</th>\n",
       "      <td>1</td>\n",
       "      <td>Anil</td>\n",
       "      <td>TE</td>\n",
       "      <td>56.77</td>\n",
       "      <td>22.0</td>\n",
       "    </tr>\n",
       "    <tr>\n",
       "      <th>1</th>\n",
       "      <td>2</td>\n",
       "      <td>Amit</td>\n",
       "      <td>TE</td>\n",
       "      <td>59.77</td>\n",
       "      <td>21.0</td>\n",
       "    </tr>\n",
       "    <tr>\n",
       "      <th>2</th>\n",
       "      <td>3</td>\n",
       "      <td>Aniket</td>\n",
       "      <td>BE</td>\n",
       "      <td>76.88</td>\n",
       "      <td>19.0</td>\n",
       "    </tr>\n",
       "    <tr>\n",
       "      <th>3</th>\n",
       "      <td>4</td>\n",
       "      <td>Ajinkya</td>\n",
       "      <td>TE</td>\n",
       "      <td>69.66</td>\n",
       "      <td>20.0</td>\n",
       "    </tr>\n",
       "    <tr>\n",
       "      <th>6</th>\n",
       "      <td>7</td>\n",
       "      <td>Amar</td>\n",
       "      <td>BE</td>\n",
       "      <td>65.34</td>\n",
       "      <td>19.0</td>\n",
       "    </tr>\n",
       "    <tr>\n",
       "      <th>7</th>\n",
       "      <td>8</td>\n",
       "      <td>Amita</td>\n",
       "      <td>BE</td>\n",
       "      <td>68.33</td>\n",
       "      <td>23.0</td>\n",
       "    </tr>\n",
       "    <tr>\n",
       "      <th>8</th>\n",
       "      <td>9</td>\n",
       "      <td>Amol</td>\n",
       "      <td>TE</td>\n",
       "      <td>56.75</td>\n",
       "      <td>20.0</td>\n",
       "    </tr>\n",
       "    <tr>\n",
       "      <th>12</th>\n",
       "      <td>12</td>\n",
       "      <td>Sujay</td>\n",
       "      <td>TE</td>\n",
       "      <td>74.12</td>\n",
       "      <td>22.0</td>\n",
       "    </tr>\n",
       "    <tr>\n",
       "      <th>13</th>\n",
       "      <td>13</td>\n",
       "      <td>Subhash</td>\n",
       "      <td>BE</td>\n",
       "      <td>88.45</td>\n",
       "      <td>21.0</td>\n",
       "    </tr>\n",
       "    <tr>\n",
       "      <th>15</th>\n",
       "      <td>15</td>\n",
       "      <td>Shalini</td>\n",
       "      <td>TE</td>\n",
       "      <td>63.45</td>\n",
       "      <td>20.0</td>\n",
       "    </tr>\n",
       "  </tbody>\n",
       "</table>\n",
       "</div>"
      ],
      "text/plain": [
       "    roll     name class  marks   age\n",
       "0      1     Anil    TE  56.77  22.0\n",
       "1      2     Amit    TE  59.77  21.0\n",
       "2      3   Aniket    BE  76.88  19.0\n",
       "3      4  Ajinkya    TE  69.66  20.0\n",
       "6      7     Amar    BE  65.34  19.0\n",
       "7      8    Amita    BE  68.33  23.0\n",
       "8      9     Amol    TE  56.75  20.0\n",
       "12    12    Sujay    TE  74.12  22.0\n",
       "13    13  Subhash    BE  88.45  21.0\n",
       "15    15  Shalini    TE  63.45  20.0"
      ]
     },
     "execution_count": 21,
     "metadata": {},
     "output_type": "execute_result"
    }
   ],
   "source": [
    "df.dropna()"
   ]
  },
  {
   "cell_type": "code",
   "execution_count": 22,
   "id": "87b8cc6d-be00-4c72-a8ef-7ef6c505138f",
   "metadata": {},
   "outputs": [
    {
     "data": {
      "text/plain": [
       "0     56.77\n",
       "1     59.77\n",
       "2     76.88\n",
       "3     69.66\n",
       "4     63.28\n",
       "5     50.00\n",
       "6     65.34\n",
       "7     68.33\n",
       "8     56.75\n",
       "10    78.66\n",
       "11    50.00\n",
       "12    74.12\n",
       "13    88.45\n",
       "14    59.33\n",
       "15    63.45\n",
       "Name: marks, dtype: float64"
      ]
     },
     "execution_count": 22,
     "metadata": {},
     "output_type": "execute_result"
    }
   ],
   "source": [
    "df['marks'].fillna(50)"
   ]
  },
  {
   "cell_type": "code",
   "execution_count": 23,
   "id": "bb6ac882-701e-409d-8fb2-f3a7c2870d7c",
   "metadata": {},
   "outputs": [
    {
     "data": {
      "text/plain": [
       "0     22.0\n",
       "1     21.0\n",
       "2     19.0\n",
       "3     20.0\n",
       "4     20.0\n",
       "5     20.0\n",
       "6     19.0\n",
       "7     23.0\n",
       "8     20.0\n",
       "10    20.0\n",
       "11    23.0\n",
       "12    22.0\n",
       "13    21.0\n",
       "14    21.0\n",
       "15    20.0\n",
       "Name: age, dtype: float64"
      ]
     },
     "execution_count": 23,
     "metadata": {},
     "output_type": "execute_result"
    }
   ],
   "source": [
    "df['age'].fillna(20)"
   ]
  },
  {
   "cell_type": "code",
   "execution_count": 24,
   "id": "84d25f82-34fe-46fa-a161-d05aad96e3aa",
   "metadata": {},
   "outputs": [
    {
     "data": {
      "text/plain": [
       "0     56.770000\n",
       "1     59.770000\n",
       "2     76.880000\n",
       "3     69.660000\n",
       "4     63.280000\n",
       "5     67.753077\n",
       "6     65.340000\n",
       "7     68.330000\n",
       "8     56.750000\n",
       "10    78.660000\n",
       "11    67.753077\n",
       "12    74.120000\n",
       "13    88.450000\n",
       "14    59.330000\n",
       "15    63.450000\n",
       "Name: marks, dtype: float64"
      ]
     },
     "execution_count": 24,
     "metadata": {},
     "output_type": "execute_result"
    }
   ],
   "source": [
    "df['marks'].fillna(df['marks'].mean())"
   ]
  },
  {
   "cell_type": "code",
   "execution_count": 25,
   "id": "9e1f24ee-27b7-44f3-a1ec-b6f7dcd06aa1",
   "metadata": {},
   "outputs": [
    {
     "data": {
      "text/plain": [
       "0     22.0\n",
       "1     21.0\n",
       "2     19.0\n",
       "3     20.0\n",
       "4     21.0\n",
       "5     20.0\n",
       "6     19.0\n",
       "7     23.0\n",
       "8     20.0\n",
       "10    21.0\n",
       "11    23.0\n",
       "12    22.0\n",
       "13    21.0\n",
       "14    21.0\n",
       "15    20.0\n",
       "Name: age, dtype: float64"
      ]
     },
     "execution_count": 25,
     "metadata": {},
     "output_type": "execute_result"
    }
   ],
   "source": [
    "df['age'].fillna(df['age'].median())"
   ]
  },
  {
   "cell_type": "code",
   "execution_count": 26,
   "id": "ed748f0f-4c68-45df-9912-9c290c73a1fe",
   "metadata": {},
   "outputs": [
    {
     "data": {
      "text/plain": [
       "0    TE\n",
       "Name: class, dtype: object"
      ]
     },
     "execution_count": 26,
     "metadata": {},
     "output_type": "execute_result"
    }
   ],
   "source": [
    "df['class'].mode()"
   ]
  },
  {
   "cell_type": "code",
   "execution_count": 27,
   "id": "c9dbb564-f691-436d-9643-32d02fc2b7e4",
   "metadata": {},
   "outputs": [
    {
     "data": {
      "text/plain": [
       "0      TE\n",
       "1      TE\n",
       "2      BE\n",
       "3      TE\n",
       "4      TE\n",
       "5      BE\n",
       "6      BE\n",
       "7      BE\n",
       "8      TE\n",
       "10     BE\n",
       "11     TE\n",
       "12     TE\n",
       "13     BE\n",
       "14    NaN\n",
       "15     TE\n",
       "Name: class, dtype: object"
      ]
     },
     "execution_count": 27,
     "metadata": {},
     "output_type": "execute_result"
    }
   ],
   "source": [
    "df['class'].fillna(df['class'].mode())\n"
   ]
  },
  {
   "cell_type": "code",
   "execution_count": 28,
   "id": "9ba7690b-7ef4-4820-a7b2-bf5e801b538e",
   "metadata": {},
   "outputs": [
    {
     "data": {
      "text/plain": [
       "'TE'"
      ]
     },
     "execution_count": 28,
     "metadata": {},
     "output_type": "execute_result"
    }
   ],
   "source": [
    "df['class'].mode()[0]"
   ]
  },
  {
   "cell_type": "code",
   "execution_count": 30,
   "id": "d4d23f2e-3d3f-4bc7-947a-265d974fd607",
   "metadata": {},
   "outputs": [
    {
     "data": {
      "text/plain": [
       "0     TE\n",
       "1     TE\n",
       "2     BE\n",
       "3     TE\n",
       "4     TE\n",
       "5     BE\n",
       "6     BE\n",
       "7     BE\n",
       "8     TE\n",
       "10    BE\n",
       "11    TE\n",
       "12    TE\n",
       "13    BE\n",
       "14    TE\n",
       "15    TE\n",
       "Name: class, dtype: object"
      ]
     },
     "execution_count": 30,
     "metadata": {},
     "output_type": "execute_result"
    }
   ],
   "source": [
    "df['class'].fillna(df['class'].mode()[0])\n"
   ]
  },
  {
   "cell_type": "code",
   "execution_count": 31,
   "id": "8c2cdcd9-4204-4bf6-8b97-94d7a20bc43d",
   "metadata": {},
   "outputs": [
    {
     "data": {
      "text/html": [
       "<div>\n",
       "<style scoped>\n",
       "    .dataframe tbody tr th:only-of-type {\n",
       "        vertical-align: middle;\n",
       "    }\n",
       "\n",
       "    .dataframe tbody tr th {\n",
       "        vertical-align: top;\n",
       "    }\n",
       "\n",
       "    .dataframe thead th {\n",
       "        text-align: right;\n",
       "    }\n",
       "</style>\n",
       "<table border=\"1\" class=\"dataframe\">\n",
       "  <thead>\n",
       "    <tr style=\"text-align: right;\">\n",
       "      <th></th>\n",
       "      <th>roll</th>\n",
       "      <th>name</th>\n",
       "      <th>class</th>\n",
       "      <th>marks</th>\n",
       "      <th>age</th>\n",
       "    </tr>\n",
       "  </thead>\n",
       "  <tbody>\n",
       "    <tr>\n",
       "      <th>0</th>\n",
       "      <td>1</td>\n",
       "      <td>Anil</td>\n",
       "      <td>TE</td>\n",
       "      <td>56.77</td>\n",
       "      <td>22.0</td>\n",
       "    </tr>\n",
       "    <tr>\n",
       "      <th>1</th>\n",
       "      <td>2</td>\n",
       "      <td>Amit</td>\n",
       "      <td>TE</td>\n",
       "      <td>59.77</td>\n",
       "      <td>21.0</td>\n",
       "    </tr>\n",
       "    <tr>\n",
       "      <th>2</th>\n",
       "      <td>3</td>\n",
       "      <td>Aniket</td>\n",
       "      <td>BE</td>\n",
       "      <td>76.88</td>\n",
       "      <td>19.0</td>\n",
       "    </tr>\n",
       "    <tr>\n",
       "      <th>3</th>\n",
       "      <td>4</td>\n",
       "      <td>Ajinkya</td>\n",
       "      <td>TE</td>\n",
       "      <td>69.66</td>\n",
       "      <td>20.0</td>\n",
       "    </tr>\n",
       "    <tr>\n",
       "      <th>4</th>\n",
       "      <td>5</td>\n",
       "      <td>Asha</td>\n",
       "      <td>TE</td>\n",
       "      <td>63.28</td>\n",
       "      <td>20.0</td>\n",
       "    </tr>\n",
       "    <tr>\n",
       "      <th>5</th>\n",
       "      <td>6</td>\n",
       "      <td>Ayesha</td>\n",
       "      <td>BE</td>\n",
       "      <td>63.28</td>\n",
       "      <td>20.0</td>\n",
       "    </tr>\n",
       "    <tr>\n",
       "      <th>6</th>\n",
       "      <td>7</td>\n",
       "      <td>Amar</td>\n",
       "      <td>BE</td>\n",
       "      <td>65.34</td>\n",
       "      <td>19.0</td>\n",
       "    </tr>\n",
       "    <tr>\n",
       "      <th>7</th>\n",
       "      <td>8</td>\n",
       "      <td>Amita</td>\n",
       "      <td>BE</td>\n",
       "      <td>68.33</td>\n",
       "      <td>23.0</td>\n",
       "    </tr>\n",
       "    <tr>\n",
       "      <th>8</th>\n",
       "      <td>9</td>\n",
       "      <td>Amol</td>\n",
       "      <td>TE</td>\n",
       "      <td>56.75</td>\n",
       "      <td>20.0</td>\n",
       "    </tr>\n",
       "    <tr>\n",
       "      <th>10</th>\n",
       "      <td>10</td>\n",
       "      <td>Anmol</td>\n",
       "      <td>BE</td>\n",
       "      <td>78.66</td>\n",
       "      <td>20.0</td>\n",
       "    </tr>\n",
       "    <tr>\n",
       "      <th>11</th>\n",
       "      <td>11</td>\n",
       "      <td>Surbhi</td>\n",
       "      <td>TE</td>\n",
       "      <td>78.66</td>\n",
       "      <td>23.0</td>\n",
       "    </tr>\n",
       "    <tr>\n",
       "      <th>12</th>\n",
       "      <td>12</td>\n",
       "      <td>Sujay</td>\n",
       "      <td>TE</td>\n",
       "      <td>74.12</td>\n",
       "      <td>22.0</td>\n",
       "    </tr>\n",
       "    <tr>\n",
       "      <th>13</th>\n",
       "      <td>13</td>\n",
       "      <td>Subhash</td>\n",
       "      <td>BE</td>\n",
       "      <td>88.45</td>\n",
       "      <td>21.0</td>\n",
       "    </tr>\n",
       "    <tr>\n",
       "      <th>14</th>\n",
       "      <td>14</td>\n",
       "      <td>Sachin</td>\n",
       "      <td>BE</td>\n",
       "      <td>59.33</td>\n",
       "      <td>21.0</td>\n",
       "    </tr>\n",
       "    <tr>\n",
       "      <th>15</th>\n",
       "      <td>15</td>\n",
       "      <td>Shalini</td>\n",
       "      <td>TE</td>\n",
       "      <td>63.45</td>\n",
       "      <td>20.0</td>\n",
       "    </tr>\n",
       "  </tbody>\n",
       "</table>\n",
       "</div>"
      ],
      "text/plain": [
       "    roll     name class  marks   age\n",
       "0      1     Anil    TE  56.77  22.0\n",
       "1      2     Amit    TE  59.77  21.0\n",
       "2      3   Aniket    BE  76.88  19.0\n",
       "3      4  Ajinkya    TE  69.66  20.0\n",
       "4      5     Asha    TE  63.28  20.0\n",
       "5      6   Ayesha    BE  63.28  20.0\n",
       "6      7     Amar    BE  65.34  19.0\n",
       "7      8    Amita    BE  68.33  23.0\n",
       "8      9     Amol    TE  56.75  20.0\n",
       "10    10    Anmol    BE  78.66  20.0\n",
       "11    11   Surbhi    TE  78.66  23.0\n",
       "12    12    Sujay    TE  74.12  22.0\n",
       "13    13  Subhash    BE  88.45  21.0\n",
       "14    14   Sachin    BE  59.33  21.0\n",
       "15    15  Shalini    TE  63.45  20.0"
      ]
     },
     "execution_count": 31,
     "metadata": {},
     "output_type": "execute_result"
    }
   ],
   "source": [
    "df.ffill()"
   ]
  },
  {
   "cell_type": "code",
   "execution_count": 35,
   "id": "7629cc3f-ed56-4dc9-998f-00375f011b17",
   "metadata": {},
   "outputs": [
    {
     "data": {
      "text/html": [
       "<div>\n",
       "<style scoped>\n",
       "    .dataframe tbody tr th:only-of-type {\n",
       "        vertical-align: middle;\n",
       "    }\n",
       "\n",
       "    .dataframe tbody tr th {\n",
       "        vertical-align: top;\n",
       "    }\n",
       "\n",
       "    .dataframe thead th {\n",
       "        text-align: right;\n",
       "    }\n",
       "</style>\n",
       "<table border=\"1\" class=\"dataframe\">\n",
       "  <thead>\n",
       "    <tr style=\"text-align: right;\">\n",
       "      <th></th>\n",
       "      <th>roll</th>\n",
       "      <th>name</th>\n",
       "      <th>class</th>\n",
       "      <th>marks</th>\n",
       "      <th>age</th>\n",
       "    </tr>\n",
       "  </thead>\n",
       "  <tbody>\n",
       "    <tr>\n",
       "      <th>0</th>\n",
       "      <td>1</td>\n",
       "      <td>Anil</td>\n",
       "      <td>TE</td>\n",
       "      <td>56.77</td>\n",
       "      <td>22.0</td>\n",
       "    </tr>\n",
       "    <tr>\n",
       "      <th>1</th>\n",
       "      <td>2</td>\n",
       "      <td>Amit</td>\n",
       "      <td>TE</td>\n",
       "      <td>59.77</td>\n",
       "      <td>21.0</td>\n",
       "    </tr>\n",
       "    <tr>\n",
       "      <th>2</th>\n",
       "      <td>3</td>\n",
       "      <td>Aniket</td>\n",
       "      <td>BE</td>\n",
       "      <td>76.88</td>\n",
       "      <td>19.0</td>\n",
       "    </tr>\n",
       "    <tr>\n",
       "      <th>3</th>\n",
       "      <td>4</td>\n",
       "      <td>Ajinkya</td>\n",
       "      <td>TE</td>\n",
       "      <td>69.66</td>\n",
       "      <td>20.0</td>\n",
       "    </tr>\n",
       "    <tr>\n",
       "      <th>4</th>\n",
       "      <td>5</td>\n",
       "      <td>Asha</td>\n",
       "      <td>TE</td>\n",
       "      <td>63.28</td>\n",
       "      <td>20.0</td>\n",
       "    </tr>\n",
       "    <tr>\n",
       "      <th>5</th>\n",
       "      <td>6</td>\n",
       "      <td>Ayesha</td>\n",
       "      <td>BE</td>\n",
       "      <td>65.34</td>\n",
       "      <td>20.0</td>\n",
       "    </tr>\n",
       "    <tr>\n",
       "      <th>6</th>\n",
       "      <td>7</td>\n",
       "      <td>Amar</td>\n",
       "      <td>BE</td>\n",
       "      <td>65.34</td>\n",
       "      <td>19.0</td>\n",
       "    </tr>\n",
       "    <tr>\n",
       "      <th>7</th>\n",
       "      <td>8</td>\n",
       "      <td>Amita</td>\n",
       "      <td>BE</td>\n",
       "      <td>68.33</td>\n",
       "      <td>23.0</td>\n",
       "    </tr>\n",
       "    <tr>\n",
       "      <th>8</th>\n",
       "      <td>9</td>\n",
       "      <td>Amol</td>\n",
       "      <td>TE</td>\n",
       "      <td>56.75</td>\n",
       "      <td>20.0</td>\n",
       "    </tr>\n",
       "    <tr>\n",
       "      <th>10</th>\n",
       "      <td>10</td>\n",
       "      <td>Anmol</td>\n",
       "      <td>BE</td>\n",
       "      <td>78.66</td>\n",
       "      <td>23.0</td>\n",
       "    </tr>\n",
       "    <tr>\n",
       "      <th>11</th>\n",
       "      <td>11</td>\n",
       "      <td>Surbhi</td>\n",
       "      <td>TE</td>\n",
       "      <td>74.12</td>\n",
       "      <td>23.0</td>\n",
       "    </tr>\n",
       "    <tr>\n",
       "      <th>12</th>\n",
       "      <td>12</td>\n",
       "      <td>Sujay</td>\n",
       "      <td>TE</td>\n",
       "      <td>74.12</td>\n",
       "      <td>22.0</td>\n",
       "    </tr>\n",
       "    <tr>\n",
       "      <th>13</th>\n",
       "      <td>13</td>\n",
       "      <td>Subhash</td>\n",
       "      <td>BE</td>\n",
       "      <td>88.45</td>\n",
       "      <td>21.0</td>\n",
       "    </tr>\n",
       "    <tr>\n",
       "      <th>14</th>\n",
       "      <td>14</td>\n",
       "      <td>Sachin</td>\n",
       "      <td>TE</td>\n",
       "      <td>59.33</td>\n",
       "      <td>21.0</td>\n",
       "    </tr>\n",
       "    <tr>\n",
       "      <th>15</th>\n",
       "      <td>15</td>\n",
       "      <td>Shalini</td>\n",
       "      <td>TE</td>\n",
       "      <td>63.45</td>\n",
       "      <td>20.0</td>\n",
       "    </tr>\n",
       "  </tbody>\n",
       "</table>\n",
       "</div>"
      ],
      "text/plain": [
       "    roll     name class  marks   age\n",
       "0      1     Anil    TE  56.77  22.0\n",
       "1      2     Amit    TE  59.77  21.0\n",
       "2      3   Aniket    BE  76.88  19.0\n",
       "3      4  Ajinkya    TE  69.66  20.0\n",
       "4      5     Asha    TE  63.28  20.0\n",
       "5      6   Ayesha    BE  65.34  20.0\n",
       "6      7     Amar    BE  65.34  19.0\n",
       "7      8    Amita    BE  68.33  23.0\n",
       "8      9     Amol    TE  56.75  20.0\n",
       "10    10    Anmol    BE  78.66  23.0\n",
       "11    11   Surbhi    TE  74.12  23.0\n",
       "12    12    Sujay    TE  74.12  22.0\n",
       "13    13  Subhash    BE  88.45  21.0\n",
       "14    14   Sachin    TE  59.33  21.0\n",
       "15    15  Shalini    TE  63.45  20.0"
      ]
     },
     "execution_count": 35,
     "metadata": {},
     "output_type": "execute_result"
    }
   ],
   "source": [
    "df.bfill()"
   ]
  },
  {
   "cell_type": "code",
   "execution_count": 36,
   "id": "03d9c79e-d0e9-48ad-96ff-2560d34bd16d",
   "metadata": {},
   "outputs": [],
   "source": [
    "df.bfill(inplace=True)"
   ]
  },
  {
   "cell_type": "code",
   "execution_count": 37,
   "id": "d52bf64c-1ad1-4e75-840f-d5b0ee57f8ee",
   "metadata": {},
   "outputs": [
    {
     "data": {
      "text/html": [
       "<div>\n",
       "<style scoped>\n",
       "    .dataframe tbody tr th:only-of-type {\n",
       "        vertical-align: middle;\n",
       "    }\n",
       "\n",
       "    .dataframe tbody tr th {\n",
       "        vertical-align: top;\n",
       "    }\n",
       "\n",
       "    .dataframe thead th {\n",
       "        text-align: right;\n",
       "    }\n",
       "</style>\n",
       "<table border=\"1\" class=\"dataframe\">\n",
       "  <thead>\n",
       "    <tr style=\"text-align: right;\">\n",
       "      <th></th>\n",
       "      <th>roll</th>\n",
       "      <th>name</th>\n",
       "      <th>class</th>\n",
       "      <th>marks</th>\n",
       "      <th>age</th>\n",
       "    </tr>\n",
       "  </thead>\n",
       "  <tbody>\n",
       "    <tr>\n",
       "      <th>0</th>\n",
       "      <td>1</td>\n",
       "      <td>Anil</td>\n",
       "      <td>TE</td>\n",
       "      <td>56.77</td>\n",
       "      <td>22.0</td>\n",
       "    </tr>\n",
       "    <tr>\n",
       "      <th>1</th>\n",
       "      <td>2</td>\n",
       "      <td>Amit</td>\n",
       "      <td>TE</td>\n",
       "      <td>59.77</td>\n",
       "      <td>21.0</td>\n",
       "    </tr>\n",
       "    <tr>\n",
       "      <th>2</th>\n",
       "      <td>3</td>\n",
       "      <td>Aniket</td>\n",
       "      <td>BE</td>\n",
       "      <td>76.88</td>\n",
       "      <td>19.0</td>\n",
       "    </tr>\n",
       "    <tr>\n",
       "      <th>3</th>\n",
       "      <td>4</td>\n",
       "      <td>Ajinkya</td>\n",
       "      <td>TE</td>\n",
       "      <td>69.66</td>\n",
       "      <td>20.0</td>\n",
       "    </tr>\n",
       "    <tr>\n",
       "      <th>4</th>\n",
       "      <td>5</td>\n",
       "      <td>Asha</td>\n",
       "      <td>TE</td>\n",
       "      <td>63.28</td>\n",
       "      <td>20.0</td>\n",
       "    </tr>\n",
       "    <tr>\n",
       "      <th>5</th>\n",
       "      <td>6</td>\n",
       "      <td>Ayesha</td>\n",
       "      <td>BE</td>\n",
       "      <td>65.34</td>\n",
       "      <td>20.0</td>\n",
       "    </tr>\n",
       "    <tr>\n",
       "      <th>6</th>\n",
       "      <td>7</td>\n",
       "      <td>Amar</td>\n",
       "      <td>BE</td>\n",
       "      <td>65.34</td>\n",
       "      <td>19.0</td>\n",
       "    </tr>\n",
       "    <tr>\n",
       "      <th>7</th>\n",
       "      <td>8</td>\n",
       "      <td>Amita</td>\n",
       "      <td>BE</td>\n",
       "      <td>68.33</td>\n",
       "      <td>23.0</td>\n",
       "    </tr>\n",
       "    <tr>\n",
       "      <th>8</th>\n",
       "      <td>9</td>\n",
       "      <td>Amol</td>\n",
       "      <td>TE</td>\n",
       "      <td>56.75</td>\n",
       "      <td>20.0</td>\n",
       "    </tr>\n",
       "    <tr>\n",
       "      <th>10</th>\n",
       "      <td>10</td>\n",
       "      <td>Anmol</td>\n",
       "      <td>BE</td>\n",
       "      <td>78.66</td>\n",
       "      <td>23.0</td>\n",
       "    </tr>\n",
       "    <tr>\n",
       "      <th>11</th>\n",
       "      <td>11</td>\n",
       "      <td>Surbhi</td>\n",
       "      <td>TE</td>\n",
       "      <td>74.12</td>\n",
       "      <td>23.0</td>\n",
       "    </tr>\n",
       "    <tr>\n",
       "      <th>12</th>\n",
       "      <td>12</td>\n",
       "      <td>Sujay</td>\n",
       "      <td>TE</td>\n",
       "      <td>74.12</td>\n",
       "      <td>22.0</td>\n",
       "    </tr>\n",
       "    <tr>\n",
       "      <th>13</th>\n",
       "      <td>13</td>\n",
       "      <td>Subhash</td>\n",
       "      <td>BE</td>\n",
       "      <td>88.45</td>\n",
       "      <td>21.0</td>\n",
       "    </tr>\n",
       "    <tr>\n",
       "      <th>14</th>\n",
       "      <td>14</td>\n",
       "      <td>Sachin</td>\n",
       "      <td>TE</td>\n",
       "      <td>59.33</td>\n",
       "      <td>21.0</td>\n",
       "    </tr>\n",
       "    <tr>\n",
       "      <th>15</th>\n",
       "      <td>15</td>\n",
       "      <td>Shalini</td>\n",
       "      <td>TE</td>\n",
       "      <td>63.45</td>\n",
       "      <td>20.0</td>\n",
       "    </tr>\n",
       "  </tbody>\n",
       "</table>\n",
       "</div>"
      ],
      "text/plain": [
       "    roll     name class  marks   age\n",
       "0      1     Anil    TE  56.77  22.0\n",
       "1      2     Amit    TE  59.77  21.0\n",
       "2      3   Aniket    BE  76.88  19.0\n",
       "3      4  Ajinkya    TE  69.66  20.0\n",
       "4      5     Asha    TE  63.28  20.0\n",
       "5      6   Ayesha    BE  65.34  20.0\n",
       "6      7     Amar    BE  65.34  19.0\n",
       "7      8    Amita    BE  68.33  23.0\n",
       "8      9     Amol    TE  56.75  20.0\n",
       "10    10    Anmol    BE  78.66  23.0\n",
       "11    11   Surbhi    TE  74.12  23.0\n",
       "12    12    Sujay    TE  74.12  22.0\n",
       "13    13  Subhash    BE  88.45  21.0\n",
       "14    14   Sachin    TE  59.33  21.0\n",
       "15    15  Shalini    TE  63.45  20.0"
      ]
     },
     "execution_count": 37,
     "metadata": {},
     "output_type": "execute_result"
    }
   ],
   "source": [
    "df"
   ]
  },
  {
   "cell_type": "code",
   "execution_count": null,
   "id": "7ae71671-d770-4200-8993-9b6b3722490d",
   "metadata": {},
   "outputs": [],
   "source": []
  }
 ],
 "metadata": {
  "kernelspec": {
   "display_name": "Python 3 (ipykernel)",
   "language": "python",
   "name": "python3"
  },
  "language_info": {
   "codemirror_mode": {
    "name": "ipython",
    "version": 3
   },
   "file_extension": ".py",
   "mimetype": "text/x-python",
   "name": "python",
   "nbconvert_exporter": "python",
   "pygments_lexer": "ipython3",
   "version": "3.11.7"
  }
 },
 "nbformat": 4,
 "nbformat_minor": 5
}
