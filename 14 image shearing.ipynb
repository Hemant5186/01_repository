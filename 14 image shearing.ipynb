{
 "cells": [
  {
   "cell_type": "code",
   "execution_count": 1,
   "id": "61309832-dadf-45ad-8de9-b96a34d2a942",
   "metadata": {},
   "outputs": [],
   "source": [
    "import cv2\n",
    "import matplotlib.pyplot as plt\n",
    "import numpy as np"
   ]
  },
  {
   "cell_type": "code",
   "execution_count": 10,
   "id": "36594546-8499-4878-8692-2894a32c3ed3",
   "metadata": {},
   "outputs": [],
   "source": [
    "image = cv2.imread('images/lena.png')"
   ]
  },
  {
   "cell_type": "code",
   "execution_count": 11,
   "id": "449765d5-9d6c-47b8-84eb-fb4c3e5497f6",
   "metadata": {},
   "outputs": [],
   "source": [
    "# Define shearing factors (adjust as needed)\n",
    "shear_x = 0.25 #shear along x-axis\n",
    "shear_y = 0.45 #shear along y-axis\n",
    "\n",
    "# create transformation matrix\n",
    "M = np.array([[1, shear_x, 0],[shear_y,1,0],[0, 0, 1]])\n"
   ]
  },
  {
   "cell_type": "code",
   "execution_count": 12,
   "id": "eb9af6e3-b3d8-4d14-92e3-a46b69a58fec",
   "metadata": {},
   "outputs": [],
   "source": [
    "rows, cols, _ = image.shape\n",
    "T = np.float32([[1, 0, 0], [0, 1, 50]])\n",
    "# we use warpAffine to transform the image using the matrix, T\n",
    "img_translation = cv2.warpAffine(image, T, (int(cols*1.5), int(rows*1.5)))\n",
    "sheared_img = cv2.warpPerspective(img_translation, M, (int(cols*1.5),int(rows*1.5)))\n",
    "\n",
    "cv2.imshow('img', sheared_img)\n",
    "cv2.waitKey(0)\n",
    "cv2.destroyAllWindows()"
   ]
  },
  {
   "cell_type": "code",
   "execution_count": null,
   "id": "49d61def-53ca-423b-9fec-9f36a490e95c",
   "metadata": {},
   "outputs": [],
   "source": []
  }
 ],
 "metadata": {
  "kernelspec": {
   "display_name": "Python 3 (ipykernel)",
   "language": "python",
   "name": "python3"
  },
  "language_info": {
   "codemirror_mode": {
    "name": "ipython",
    "version": 3
   },
   "file_extension": ".py",
   "mimetype": "text/x-python",
   "name": "python",
   "nbconvert_exporter": "python",
   "pygments_lexer": "ipython3",
   "version": "3.11.7"
  }
 },
 "nbformat": 4,
 "nbformat_minor": 5
}
