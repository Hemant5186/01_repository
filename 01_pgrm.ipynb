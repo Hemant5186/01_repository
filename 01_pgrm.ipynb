{
 "cells": [
  {
   "cell_type": "code",
   "execution_count": 1,
   "id": "e5bedde8-db8c-4183-8a72-cae991b98ca4",
   "metadata": {},
   "outputs": [
    {
     "name": "stdout",
     "output_type": "stream",
     "text": [
      "hello world\n"
     ]
    }
   ],
   "source": [
    "print(\"hello world\")\n",
    "\n"
   ]
  },
  {
   "cell_type": "code",
   "execution_count": null,
   "id": "d5d1c2ec-8b4c-4890-89e6-3b06d2e11379",
   "metadata": {},
   "outputs": [],
   "source": [
    "cent = int(input(\"Enter the temperature:\"))\n",
    "far = cen\n",
    "far(\"Farenhite Temperature:\", far)\n"
   ]
  },
  {
   "cell_type": "code",
   "execution_count": null,
   "id": "011792a5-6366-4596-b4ce-3c11c1a063f4",
   "metadata": {},
   "outputs": [],
   "source": [
    "cent = int(input(\"Enter the temperature:\"))\n",
    "far = cen\n",
    "far(\"Farenhite Temperature:\", far)\n"
   ]
  },
  {
   "cell_type": "code",
   "execution_count": null,
   "id": "fd279d4e-289e-4b9e-a8e2-78ca56d61229",
   "metadata": {},
   "outputs": [],
   "source": [
    "type(cent)"
   ]
  },
  {
   "cell_type": "markdown",
   "id": "6e87d1fa-5f3e-4537-b099-7ce1ec52512a",
   "metadata": {},
   "source": [
    "##### simple python program"
   ]
  },
  {
   "cell_type": "markdown",
   "id": "f4fd8522-8421-4856-83d3-b868ba3cbf48",
   "metadata": {},
   "source": [
    "##### Decesion Making Statements"
   ]
  },
  {
   "cell_type": "code",
   "execution_count": null,
   "id": "d490cba7-4230-4cef-baa2-568ed6f44556",
   "metadata": {},
   "outputs": [],
   "source": []
  },
  {
   "cell_type": "code",
   "execution_count": null,
   "id": "3921de70-b730-4833-b441-414ab083b29f",
   "metadata": {},
   "outputs": [],
   "source": [
    "num = int(input('Enter the number:'))\n",
    "if num > 0:\n",
    "    print('Number is Positive:')\n",
    "elif num == 0:\n",
    "    print('Number is Zero.')\n",
    "else:\n",
    "    print('Number is Negative:')"
   ]
  },
  {
   "cell_type": "code",
   "execution_count": null,
   "id": "b230680a-72a2-4fde-a7b5-e830e646353e",
   "metadata": {},
   "outputs": [],
   "source": []
  }
 ],
 "metadata": {
  "kernelspec": {
   "display_name": "Python 3 (ipykernel)",
   "language": "python",
   "name": "python3"
  },
  "language_info": {
   "codemirror_mode": {
    "name": "ipython",
    "version": 3
   },
   "file_extension": ".py",
   "mimetype": "text/x-python",
   "name": "python",
   "nbconvert_exporter": "python",
   "pygments_lexer": "ipython3",
   "version": "3.11.7"
  }
 },
 "nbformat": 4,
 "nbformat_minor": 5
}
