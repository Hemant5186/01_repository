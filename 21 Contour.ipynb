{
 "cells": [
  {
   "cell_type": "code",
   "execution_count": 1,
   "id": "7736da89-af56-4e5e-a83c-48c67feea2af",
   "metadata": {},
   "outputs": [],
   "source": [
    "import numpy as np\n",
    "import matplotlib.pyplot as plt\n",
    "import cv2"
   ]
  },
  {
   "cell_type": "code",
   "execution_count": null,
   "id": "c24229f1-51d5-480c-91f8-03d44c0d112a",
   "metadata": {},
   "outputs": [],
   "source": [
    "img = cv2.imread('images/circle.png')\n",
    "gray = cv2.cvtColor(img, cv2.COLOR_BGR2GRAY)\n",
    "\n",
    "#Creates a binary image where pixels above 127 are set to 25 (white).\n",
    "# and others to 0 (black)\n",
    "thresh = cv2.threshold(gray, 127, 255, cv2.THRESH_BINARY)[1]\n",
    "#cv2.find Contours finds contours in the binary images.\n",
    "#cv2.RETR_TREE retrievs all contours and creates a hierarchy tree\n",
    "# cv2. CHAIN_APPROX_SIMPLE approximates contours to save memory\n",
    "\n",
    "\n",
    "contours, hierarchy = cv2.findContours(thresh, cv2.RETR_TREE, cv2.CHAIN_APPROX_SIMPLE)\n",
    "#-1 draws all contours.\n",
    "# (0, 255, 0) is the color (green).\n",
    "# 2 is the thickness of the lines.\n",
    "\n",
    "cv2.drawContours(img, contours, -1, (0, 255, 0), 2) # Draw all contours in \n",
    "\n",
    "#Display results\n",
    "cv2.imshow('Original Image', img)\n",
    "cv2.imshow('Threshold Image', thresh)\n",
    "cv2.waitKey(0)\n",
    "cv2.destroyAllWindows()\n",
    "\n"
   ]
  },
  {
   "cell_type": "code",
   "execution_count": null,
   "id": "e669c9a8-be02-433e-8b60-7d5989e238b9",
   "metadata": {},
   "outputs": [],
   "source": []
  }
 ],
 "metadata": {
  "kernelspec": {
   "display_name": "Python 3 (ipykernel)",
   "language": "python",
   "name": "python3"
  },
  "language_info": {
   "codemirror_mode": {
    "name": "ipython",
    "version": 3
   },
   "file_extension": ".py",
   "mimetype": "text/x-python",
   "name": "python",
   "nbconvert_exporter": "python",
   "pygments_lexer": "ipython3",
   "version": "3.11.7"
  }
 },
 "nbformat": 4,
 "nbformat_minor": 5
}
