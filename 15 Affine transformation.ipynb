{
 "cells": [
  {
   "cell_type": "code",
   "execution_count": 12,
   "id": "1f560f1d-a9b3-46ea-ba08-3fba3faf155a",
   "metadata": {},
   "outputs": [],
   "source": [
    "import cv2\n",
    "import matplotlib.pyplot as plt\n",
    "import numpy as np\n",
    "img = cv2.imread('images/lena.png')"
   ]
  },
  {
   "cell_type": "code",
   "execution_count": 14,
   "id": "65e7d29a-8309-4be3-8426-6d7248a5c5e7",
   "metadata": {},
   "outputs": [],
   "source": [
    "# Define transformation parameters\n",
    "tx = 50 # Translation along x-axis\n",
    "ty = 100 # Translation along y-axis\n",
    "angle = 45 # Rotation angle in degrees\n",
    "scale = 1.2 # Scaling factor\n",
    "shear_x = 0.3 # Shearing along X-axis\n",
    "shear_y = 0.2 #Shearing along y-axis\n",
    "\n",
    "# Create transformation matrix\n",
    "M = np.float32([[scale * np.cos(np.radians(angle)), shear_x, tx], [shear_y,  scale*np.sin(np.radians(angle)), ty]])\n",
    "\n",
    "# Apply transformation using warpAffine\n",
    "img_affine = cv2.warpAffine(img, M, (512, 512))\n",
    "\n",
    "#Display original and Affine transformation images\n",
    "final_img = np.hstack([img, img_affine])\n",
    "#cv2.imshow('Original Image', img)\n",
    "\n",
    "#cv2.imshow('Affine Transformation Image', img_affine)\n",
    "cv2.imshow('image', final_img)\n",
    "cv2.waitKey(0)\n",
    "cv2.destroyAllWindows()\n"
   ]
  },
  {
   "cell_type": "code",
   "execution_count": null,
   "id": "7e9406da-3428-4b33-82c5-cc78252ea455",
   "metadata": {},
   "outputs": [],
   "source": []
  }
 ],
 "metadata": {
  "kernelspec": {
   "display_name": "Python 3 (ipykernel)",
   "language": "python",
   "name": "python3"
  },
  "language_info": {
   "codemirror_mode": {
    "name": "ipython",
    "version": 3
   },
   "file_extension": ".py",
   "mimetype": "text/x-python",
   "name": "python",
   "nbconvert_exporter": "python",
   "pygments_lexer": "ipython3",
   "version": "3.11.7"
  }
 },
 "nbformat": 4,
 "nbformat_minor": 5
}
