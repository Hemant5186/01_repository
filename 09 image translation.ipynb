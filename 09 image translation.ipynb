{
 "cells": [
  {
   "cell_type": "code",
   "execution_count": 1,
   "id": "6f4f010e-7e8d-41a8-a315-071aa0302333",
   "metadata": {},
   "outputs": [],
   "source": [
    "import cv2\n",
    "import numpy as np\n",
    "import matplotlib.pyplot as plt"
   ]
  },
  {
   "cell_type": "code",
   "execution_count": 2,
   "id": "420450c2-1c7b-4c14-9a33-3c66de397a65",
   "metadata": {},
   "outputs": [],
   "source": [
    "image = cv2.imread('images/lena.png')\n",
    "# Store height and width of the images\n",
    "height, width = image.shape[:2]\n",
    "\n",
    "quarter_height, quarter_width = height / 4, width /4\n",
    "T =np.float32([[1,0,quarter_width],[0,1, quarter_height]])\n",
    "# we use warpaAffine to transform the image using the matrix, T\n",
    "img_translation = cv2.warpAffine(image, T, (width, height))"
   ]
  },
  {
   "cell_type": "code",
   "execution_count": 3,
   "id": "68746c59-2b39-4c5a-ac6d-0b3c46c371d6",
   "metadata": {},
   "outputs": [
    {
     "data": {
      "text/plain": [
       "array([[  1.,   0., 128.],\n",
       "       [  0.,   1., 128.]], dtype=float32)"
      ]
     },
     "execution_count": 3,
     "metadata": {},
     "output_type": "execute_result"
    }
   ],
   "source": [
    "T"
   ]
  },
  {
   "cell_type": "code",
   "execution_count": 4,
   "id": "cdbc78df-f67f-4670-b579-e2e5e834e5c7",
   "metadata": {},
   "outputs": [],
   "source": [
    "cv2.imshow('Original Image', image)\n",
    "cv2.imshow('Translated Image', img_translation)\n",
    "cv2.waitKey(0)\n",
    "cv2.destroyAllWindows()"
   ]
  },
  {
   "cell_type": "code",
   "execution_count": 7,
   "id": "36f9188c-58a0-42a3-ba1f-46cbeab78036",
   "metadata": {},
   "outputs": [],
   "source": [
    "T =np.float32([[1,0,40],[0,1, 100]])\n",
    "img_translation = cv2.warpAffine(image, T, (width+100, height+100))\n",
    "cv2.imshow('Original Image', image)\n",
    "cv2.imshow('Translated Image', img_translation)\n",
    "cv2.waitKey(0)\n",
    "cv2.destroyAllWindows()\n"
   ]
  },
  {
   "cell_type": "code",
   "execution_count": null,
   "id": "15ea9316-b0d2-4c6d-94d9-8947312d7cf0",
   "metadata": {},
   "outputs": [],
   "source": []
  }
 ],
 "metadata": {
  "kernelspec": {
   "display_name": "Python 3 (ipykernel)",
   "language": "python",
   "name": "python3"
  },
  "language_info": {
   "codemirror_mode": {
    "name": "ipython",
    "version": 3
   },
   "file_extension": ".py",
   "mimetype": "text/x-python",
   "name": "python",
   "nbconvert_exporter": "python",
   "pygments_lexer": "ipython3",
   "version": "3.11.7"
  }
 },
 "nbformat": 4,
 "nbformat_minor": 5
}
